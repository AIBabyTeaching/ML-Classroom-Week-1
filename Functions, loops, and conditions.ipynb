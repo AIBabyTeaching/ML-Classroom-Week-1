{
 "cells": [
  {
   "cell_type": "markdown",
   "id": "6850807a",
   "metadata": {
    "toc": true
   },
   "source": [
    "<h1>Table of Contents<span class=\"tocSkip\"></span></h1>\n",
    "<div class=\"toc\"><ul class=\"toc-item\"><li><span><a href=\"#==========-Functions,-loops-and-conditions-==========\" data-toc-modified-id=\"==========-Functions,-loops-and-conditions-==========-1\"><span class=\"toc-item-num\">1&nbsp;&nbsp;</span>========== Functions, loops and conditions ==========</a></span><ul class=\"toc-item\"><li><ul class=\"toc-item\"><li><span><a href=\"#1.-Function-that-takes-2-numbers-and-return-their-sum\" data-toc-modified-id=\"1.-Function-that-takes-2-numbers-and-return-their-sum-1.0.1\"><span class=\"toc-item-num\">1.0.1&nbsp;&nbsp;</span>1. Function that takes 2 numbers and return their sum</a></span></li><li><span><a href=\"#2.-Funcntion-to-Check-if-a-Number-is-Positive,-Negative-or-0\" data-toc-modified-id=\"2.-Funcntion-to-Check-if-a-Number-is-Positive,-Negative-or-0-1.0.2\"><span class=\"toc-item-num\">1.0.2&nbsp;&nbsp;</span>2. Funcntion to Check if a Number is Positive, Negative or 0</a></span></li></ul></li><li><span><a href=\"#3.--Note-:-A-function-must-be-called-with-the-exact-number-of-arguments:\" data-toc-modified-id=\"3.--Note-:-A-function-must-be-called-with-the-exact-number-of-arguments:-1.1\"><span class=\"toc-item-num\">1.1&nbsp;&nbsp;</span>3.  Note : A function must be called with the exact number of arguments:</a></span><ul class=\"toc-item\"><li><span><a href=\"#4.-Keyword-Argument:\" data-toc-modified-id=\"4.-Keyword-Argument:-1.1.1\"><span class=\"toc-item-num\">1.1.1&nbsp;&nbsp;</span>4. Keyword Argument:</a></span></li><li><span><a href=\"#5.--Arbitrary-Arguments,-*args\" data-toc-modified-id=\"5.--Arbitrary-Arguments,-*args-1.1.2\"><span class=\"toc-item-num\">1.1.2&nbsp;&nbsp;</span>5.  Arbitrary Arguments, *args</a></span></li><li><span><a href=\"#6.-Arbitrary-Keyword-Arguments,-**kwargs\" data-toc-modified-id=\"6.-Arbitrary-Keyword-Arguments,-**kwargs-1.1.3\"><span class=\"toc-item-num\">1.1.3&nbsp;&nbsp;</span>6. Arbitrary Keyword Arguments, **kwargs</a></span></li><li><span><a href=\"#7.-Default-Parameter-Value\" data-toc-modified-id=\"7.-Default-Parameter-Value-1.1.4\"><span class=\"toc-item-num\">1.1.4&nbsp;&nbsp;</span>7. Default Parameter Value</a></span></li><li><span><a href=\"#8.-Passing-a-List-as-an-Argument\" data-toc-modified-id=\"8.-Passing-a-List-as-an-Argument-1.1.5\"><span class=\"toc-item-num\">1.1.5&nbsp;&nbsp;</span>8. Passing a List as an Argument</a></span></li><li><span><a href=\"#9.-The-pass-Statement\" data-toc-modified-id=\"9.-The-pass-Statement-1.1.6\"><span class=\"toc-item-num\">1.1.6&nbsp;&nbsp;</span>9. The pass Statement</a></span></li><li><span><a href=\"#10.-Recursion\" data-toc-modified-id=\"10.-Recursion-1.1.7\"><span class=\"toc-item-num\">1.1.7&nbsp;&nbsp;</span>10. Recursion</a></span></li><li><span><a href=\"#11.-More-function-examples\" data-toc-modified-id=\"11.-More-function-examples-1.1.8\"><span class=\"toc-item-num\">1.1.8&nbsp;&nbsp;</span>11. More function examples</a></span></li><li><span><a href=\"#12.-conditions\" data-toc-modified-id=\"12.-conditions-1.1.9\"><span class=\"toc-item-num\">1.1.9&nbsp;&nbsp;</span>12. conditions</a></span></li></ul></li></ul></li></ul></div>"
   ]
  },
  {
   "cell_type": "markdown",
   "id": "5255663c",
   "metadata": {},
   "source": [
    "#                   ========== Functions, loops and conditions =========="
   ]
  },
  {
   "cell_type": "markdown",
   "id": "10c27c95",
   "metadata": {},
   "source": [
    "### 1. Function that takes 2 numbers and return their sum"
   ]
  },
  {
   "cell_type": "code",
   "execution_count": 5,
   "id": "e84bc583",
   "metadata": {},
   "outputs": [
    {
     "name": "stdout",
     "output_type": "stream",
     "text": [
      "-12\n"
     ]
    }
   ],
   "source": [
    "def sub(a=5, b=4):\n",
    "    res = a - b\n",
    "    return res\n",
    "\n",
    "answer = sub(8, 20)\n",
    "print(answer)\n",
    "    "
   ]
  },
  {
   "cell_type": "code",
   "execution_count": 16,
   "id": "05841410",
   "metadata": {},
   "outputs": [
    {
     "data": {
      "text/plain": [
       "12"
      ]
     },
     "execution_count": 16,
     "metadata": {},
     "output_type": "execute_result"
    }
   ],
   "source": [
    "def sum (x, y):\n",
    "    return x + y\n",
    "\n",
    "#function call\n",
    "sum(5, 7)"
   ]
  },
  {
   "cell_type": "markdown",
   "id": "1231f096",
   "metadata": {},
   "source": [
    "### 2. Funcntion to Check if a Number is Positive, Negative or 0"
   ]
  },
  {
   "cell_type": "code",
   "execution_count": 18,
   "id": "16370b45",
   "metadata": {},
   "outputs": [
    {
     "name": "stdout",
     "output_type": "stream",
     "text": [
      "Zero\n",
      "Positive number\n",
      "Negative number\n"
     ]
    }
   ],
   "source": [
    "def checkSign(x):\n",
    "    if x > 0:\n",
    "       print(\"Positive number\")\n",
    "    elif x == 0:\n",
    "       print(\"Zero\")\n",
    "    else:\n",
    "       print(\"Negative number\")\n",
    "    \n",
    "# call function\n",
    "checkSign(0)\n",
    "checkSign(20)\n",
    "checkSign(-30)"
   ]
  },
  {
   "cell_type": "markdown",
   "id": "9aff6d3b",
   "metadata": {},
   "source": [
    "## 3.  Note : A function must be called with the exact number of arguments:"
   ]
  },
  {
   "cell_type": "code",
   "execution_count": 8,
   "id": "185d5eb1",
   "metadata": {},
   "outputs": [
    {
     "ename": "TypeError",
     "evalue": "my_function() missing 1 required positional argument: 'lname'",
     "output_type": "error",
     "traceback": [
      "\u001b[1;31m---------------------------------------------------------------------------\u001b[0m",
      "\u001b[1;31mTypeError\u001b[0m                                 Traceback (most recent call last)",
      "\u001b[1;32m~\\AppData\\Local\\Temp/ipykernel_6932/3062657168.py\u001b[0m in \u001b[0;36m<module>\u001b[1;34m\u001b[0m\n\u001b[0;32m      3\u001b[0m   \u001b[0mprint\u001b[0m\u001b[1;33m(\u001b[0m\u001b[0mfname\u001b[0m \u001b[1;33m+\u001b[0m \u001b[1;34m\" \"\u001b[0m \u001b[1;33m+\u001b[0m \u001b[0mlname\u001b[0m\u001b[1;33m)\u001b[0m\u001b[1;33m\u001b[0m\u001b[1;33m\u001b[0m\u001b[0m\n\u001b[0;32m      4\u001b[0m \u001b[1;33m\u001b[0m\u001b[0m\n\u001b[1;32m----> 5\u001b[1;33m \u001b[0mmy_function\u001b[0m\u001b[1;33m(\u001b[0m\u001b[1;34m\"Emil\"\u001b[0m\u001b[1;33m)\u001b[0m \u001b[1;31m#This will give us  missing 1 required positional argument: 'lname'\u001b[0m\u001b[1;33m\u001b[0m\u001b[1;33m\u001b[0m\u001b[0m\n\u001b[0m",
      "\u001b[1;31mTypeError\u001b[0m: my_function() missing 1 required positional argument: 'lname'"
     ]
    }
   ],
   "source": [
    "# Example:\n",
    "def my_function(fname, lname):   \n",
    "  print(fname + \" \" + lname)\n",
    "\n",
    "my_function(\"Emil\") #This will give us  missing 1 required positional argument: 'lname'"
   ]
  },
  {
   "cell_type": "code",
   "execution_count": 6,
   "id": "5c898015",
   "metadata": {},
   "outputs": [
    {
     "name": "stdout",
     "output_type": "stream",
     "text": [
      "Emil Refsnes\n"
     ]
    }
   ],
   "source": [
    "# the correct way for the above function is to send to arguments:\n",
    "# Example:\n",
    "def my_function(fname, lname):\n",
    "  print(fname + \" \" + lname)\n",
    "\n",
    "my_function(\"Emil\", \"Refsnes\")"
   ]
  },
  {
   "cell_type": "markdown",
   "id": "99b09327",
   "metadata": {},
   "source": [
    "### 4. Keyword Argument:\n",
    "    "
   ]
  },
  {
   "cell_type": "code",
   "execution_count": 10,
   "id": "06d077d0",
   "metadata": {},
   "outputs": [
    {
     "name": "stdout",
     "output_type": "stream",
     "text": [
      "The youngest child is Mohamed\n"
     ]
    }
   ],
   "source": [
    "# You can also send arguments with the key = value syntax.\n",
    "# This way the order of the arguments does not matter.\n",
    "\n",
    "def my_function(child3, child2, child1):\n",
    "  print(\"The youngest child is \" + child3)\n",
    "\n",
    "#function call\n",
    "my_function(child1='Ahmed', child3= 'Mohamed', child2='Aly')\n",
    "# my_function(child1 = \"Emil\", child2 = \"Tobias\", child3 = \"Linus\")"
   ]
  },
  {
   "cell_type": "markdown",
   "id": "0c1eb96e",
   "metadata": {},
   "source": [
    "### 5.  Arbitrary Arguments, *args"
   ]
  },
  {
   "cell_type": "code",
   "execution_count": 11,
   "id": "68781e5e",
   "metadata": {},
   "outputs": [
    {
     "name": "stdout",
     "output_type": "stream",
     "text": [
      "<class 'tuple'>\n",
      "The youngest child is Kareem\n"
     ]
    }
   ],
   "source": [
    "# If you do not know how many arguments that will be passed into your function, add a * before the parameter.\n",
    "def my_function(*kids):\n",
    "  print(type(kids))\n",
    "  print(\"The youngest child is \" + kids[2])\n",
    "\n",
    "#function call\n",
    "my_function(\"Ahmed\", \"Sameh\", \"Kareem\")   # 0 1 2\n"
   ]
  },
  {
   "cell_type": "markdown",
   "id": "3a798d07",
   "metadata": {},
   "source": [
    "### 6. Arbitrary Keyword Arguments, **kwargs"
   ]
  },
  {
   "cell_type": "code",
   "execution_count": 23,
   "id": "83663523",
   "metadata": {},
   "outputs": [
    {
     "name": "stdout",
     "output_type": "stream",
     "text": [
      "His last name is Akram\n"
     ]
    }
   ],
   "source": [
    "#If the number of keyword arguments is unknown, add a double ** before the parameter name:\n",
    "def my_function(**kid):\n",
    "  print(\"His last name is \" + kid[\"name\"])\n",
    "\n",
    "#function call\n",
    "my_function(fname = \"Ahmed\", lname = \"Fady\", name = \"Akram\")"
   ]
  },
  {
   "cell_type": "markdown",
   "id": "0ef31054",
   "metadata": {},
   "source": [
    "### 7. Default Parameter Value"
   ]
  },
  {
   "cell_type": "code",
   "execution_count": 16,
   "id": "2ce58a90",
   "metadata": {},
   "outputs": [
    {
     "name": "stdout",
     "output_type": "stream",
     "text": [
      "I am from India\n",
      "I am from Egypt\n",
      "I am from Brazil\n"
     ]
    }
   ],
   "source": [
    "# if we call the function without argument, it uses the default value:\n",
    "def my_function(country = \"Egypt\"):\n",
    "  print(\"I am from \" + country)\n",
    "\n",
    "#function  calls\n",
    "my_function(\"India\")\n",
    "my_function()\n",
    "my_function(\"Brazil\")"
   ]
  },
  {
   "cell_type": "markdown",
   "id": "c70ec3c7",
   "metadata": {},
   "source": [
    "### 8. Passing a List as an Argument"
   ]
  },
  {
   "cell_type": "code",
   "execution_count": 5,
   "id": "ec93714e",
   "metadata": {},
   "outputs": [
    {
     "name": "stdout",
     "output_type": "stream",
     "text": [
      "apple\n",
      "banana\n",
      "cherry\n"
     ]
    }
   ],
   "source": [
    "# start of the function\n",
    "def my_function(food):\n",
    "  for x in food:\n",
    "    print(x)\n",
    "# End of the function\n",
    "\n",
    "fruits = [\"apple\", \"banana\", \"cherry\"]\n",
    "\n",
    "#function call\n",
    "my_function(fruits)\n",
    "# my_function([\"Apple\", \"Cherry\"])\n"
   ]
  },
  {
   "cell_type": "markdown",
   "id": "bf667919",
   "metadata": {},
   "source": [
    "### 9. The pass Statement"
   ]
  },
  {
   "cell_type": "code",
   "execution_count": 13,
   "id": "00940c12",
   "metadata": {},
   "outputs": [],
   "source": [
    "# function definitions cannot be empty,\n",
    "# but if you for some reason have a function definition with no content\n",
    "# put in the pass statement to avoid getting an error.\n",
    "def myfunction():\n",
    "    pass"
   ]
  },
  {
   "cell_type": "markdown",
   "id": "72f02ab0",
   "metadata": {},
   "source": [
    "### 10. Recursion"
   ]
  },
  {
   "cell_type": "code",
   "execution_count": 1,
   "id": "2a40b03c",
   "metadata": {},
   "outputs": [
    {
     "data": {
      "text/plain": [
       "1"
      ]
     },
     "execution_count": 1,
     "metadata": {},
     "output_type": "execute_result"
    }
   ],
   "source": [
    "def factorial(n):\n",
    "   if n == 1 or n == 0:\n",
    "       return 1\n",
    "   else:\n",
    "       return n * factorial(n-1)  # 5 * factorial(4)\n",
    "                                  # 5 * 4 * factorial(3)\n",
    "                                  # 5 * 4 * 3 * factorial(2)\n",
    "                                  # 5 * 4 * 3 * 2 * factorial(1)\n",
    "                                  # 5 * 4 * 3 * 2 * 1 \n",
    "    \n",
    "#function call \n",
    "factorial(5)   # 5 * 4 * 3 * 2 * 1  # factorial 0, 1 = 1 \n"
   ]
  },
  {
   "cell_type": "markdown",
   "id": "b7456d25",
   "metadata": {},
   "source": [
    "### 11. More function examples"
   ]
  },
  {
   "cell_type": "code",
   "execution_count": 2,
   "id": "fad8b915",
   "metadata": {},
   "outputs": [
    {
     "data": {
      "text/plain": [
       "120"
      ]
     },
     "execution_count": 2,
     "metadata": {},
     "output_type": "execute_result"
    }
   ],
   "source": [
    "# Q1: Write a Python function to multiply all the numbers in a list\n",
    "def mul(nums):\n",
    "    result = 1\n",
    "    for n in nums:\n",
    "        result = n * result\n",
    "    return result\n",
    "\n",
    "#function call\n",
    "numbers = [2,3,4,5]\n",
    "mul(numbers)"
   ]
  },
  {
   "cell_type": "code",
   "execution_count": 12,
   "id": "370ff170",
   "metadata": {},
   "outputs": [
    {
     "data": {
      "text/plain": [
       "[1, 2, 3, 4]"
      ]
     },
     "execution_count": 12,
     "metadata": {},
     "output_type": "execute_result"
    }
   ],
   "source": [
    "# Q2: Write a function that takes a list and returns a new list with unique elements of the first list.\n",
    "def unique(numbers):\n",
    "    uniques = []\n",
    "    for n in numbers:\n",
    "        if n not in uniques:\n",
    "            uniques.append(n)\n",
    "    return uniques\n",
    "\n",
    "#function call\n",
    "nums = [1,2,3,4,2,2,2,1,3,3,4]\n",
    "unique(nums)\n"
   ]
  },
  {
   "cell_type": "code",
   "execution_count": 3,
   "id": "f982ec4d",
   "metadata": {},
   "outputs": [
    {
     "name": "stdout",
     "output_type": "stream",
     "text": [
      "0\n",
      "2\n",
      "4\n",
      "6\n",
      "8\n",
      "10\n"
     ]
    }
   ],
   "source": [
    "# Q3: write a function that prints all even numbers from 1 to n using while loop:\n",
    "def even(n):\n",
    "    i = 0\n",
    "    while i <= n:\n",
    "        if(i % 2 == 0):\n",
    "            print(i)\n",
    "        i += 1   #same as i = i + 1 , take care i++ is invalid in python\n",
    "\n",
    "# function call\n",
    "even(10)\n"
   ]
  },
  {
   "cell_type": "code",
   "execution_count": 11,
   "id": "fa4e5403",
   "metadata": {},
   "outputs": [
    {
     "name": "stdout",
     "output_type": "stream",
     "text": [
      "0\n",
      "2\n",
      "4\n",
      "6\n",
      "8\n",
      "10\n",
      "12\n",
      "14\n",
      "16\n",
      "18\n",
      "20\n"
     ]
    }
   ],
   "source": [
    "# Q4: write a function that prints all even numbers from 0 to n using for loop:\n",
    "# range(start, end, steps)\n",
    "def even(n):\n",
    "    for i in range (0, n+2, 2):\n",
    "        print(i)\n",
    "even(20)"
   ]
  },
  {
   "cell_type": "markdown",
   "id": "be17e1b6",
   "metadata": {},
   "source": [
    "### 12. conditions"
   ]
  },
  {
   "cell_type": "code",
   "execution_count": 9,
   "id": "c6e53219",
   "metadata": {},
   "outputs": [],
   "source": [
    "# Python supports the usual logical conditions from mathematics:\n",
    "\n",
    "# Equals: a == b\n",
    "# Not Equals: a != b\n",
    "# Less than: a < b\n",
    "# Less than or equal to: a <= b\n",
    "# Greater than: a > b\n",
    "# Greater than or equal to: a >= b"
   ]
  },
  {
   "cell_type": "code",
   "execution_count": 12,
   "id": "13dec075",
   "metadata": {},
   "outputs": [
    {
     "name": "stdout",
     "output_type": "stream",
     "text": [
      "Both conditions are True\n"
     ]
    }
   ],
   "source": [
    "# The and keyword is a logical operator, and is used to combine conditional statements:\n",
    "a = 200\n",
    "b = 33\n",
    "c = 500\n",
    "if a > b and c > a:\n",
    "  print(\"Both conditions are True\")"
   ]
  },
  {
   "cell_type": "code",
   "execution_count": 11,
   "id": "55902001",
   "metadata": {},
   "outputs": [
    {
     "name": "stdout",
     "output_type": "stream",
     "text": [
      "At least one of the conditions is True\n"
     ]
    }
   ],
   "source": [
    "# The or keyword is a logical operator, and is used to combine conditional statements:\n",
    "a = 200\n",
    "b = 33\n",
    "c = 500\n",
    "if a > b or a > c:\n",
    "  print(\"At least one of the conditions is True\")\n"
   ]
  },
  {
   "cell_type": "code",
   "execution_count": 15,
   "id": "4fbff48f",
   "metadata": {},
   "outputs": [
    {
     "name": "stdout",
     "output_type": "stream",
     "text": [
      "Above ten,\n",
      "but not above 20.\n"
     ]
    }
   ],
   "source": [
    "# Nested If:\n",
    "x = 15\n",
    "\n",
    "if x > 10:\n",
    "  print(\"Above ten,\")\n",
    "  if x > 20:\n",
    "    print(\"and also above 20!\")\n",
    "  else:\n",
    "    print(\"but not above 20.\")"
   ]
  },
  {
   "cell_type": "code",
   "execution_count": null,
   "id": "a165f042",
   "metadata": {},
   "outputs": [],
   "source": []
  }
 ],
 "metadata": {
  "kernelspec": {
   "display_name": "Python 3 (ipykernel)",
   "language": "python",
   "name": "python3"
  },
  "language_info": {
   "codemirror_mode": {
    "name": "ipython",
    "version": 3
   },
   "file_extension": ".py",
   "mimetype": "text/x-python",
   "name": "python",
   "nbconvert_exporter": "python",
   "pygments_lexer": "ipython3",
   "version": "3.9.7"
  },
  "toc": {
   "base_numbering": 1,
   "nav_menu": {},
   "number_sections": true,
   "sideBar": true,
   "skip_h1_title": false,
   "title_cell": "Table of Contents",
   "title_sidebar": "Contents",
   "toc_cell": true,
   "toc_position": {},
   "toc_section_display": true,
   "toc_window_display": false
  }
 },
 "nbformat": 4,
 "nbformat_minor": 5
}
