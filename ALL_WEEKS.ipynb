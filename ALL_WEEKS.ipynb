{
 "cells": [
  {
   "cell_type": "code",
   "execution_count": 1,
   "metadata": {},
   "outputs": [],
   "source": [
    "import chime, warnings\n",
    "chime.notify_exceptions()\n",
    "warnings.filterwarnings('ignore')"
   ]
  },
  {
   "cell_type": "markdown",
   "metadata": {},
   "source": [
    "# Business Understanding - Data Understanding - Data Preparation - EDA"
   ]
  },
  {
   "cell_type": "markdown",
   "metadata": {},
   "source": [
    "<img src = 'datasc-660x434.png'>"
   ]
  },
  {
   "cell_type": "markdown",
   "metadata": {},
   "source": [
    "The business problem is understanding the COVID-19.The cumulative count of confirmed, death and recovered cases of COVID-19 from different countries from 22nd January 2020\n",
    "1. Collecting data https://www.kaggle.com/datasets/imdevskp/corona-virus-report?select=covid_19_clean_complete.csv\n",
    "- [Note: the downloaded file is in .zip, we need to unzip it then import it as csv]\n",
    "2. Understanding the data by using the traditional Python data science modules. "
   ]
  },
  {
   "cell_type": "markdown",
   "metadata": {},
   "source": [
    "In this notebook, we will walkthrough the pandas library which is used for data wrangling tasks: data assessing, data coding and data cleaning. This is a part of business & data understanding and preparation. [Note: Best practice is always to import os module along with numpy]\n",
    "\n",
    "- Importing data and dealing with data with different formats: CSV, JSON, TSV, XLSX, TXT, HTML and etc ...\n",
    "  - pd.read_csv('FILENAME.CSV')\n",
    "  - pd.read_excel('FILENAME.XLSX',sheet = n) # where n is the sheet number \n",
    "- Functions and command to assess the data\n",
    "  - head(n): Finding n top rows\n",
    "  - tail(n): Finding n bottom rows\n",
    "  - sample(n): Finding n sample of data\n",
    "  - info(): get an overall information about the data attributes/types/missing values\n",
    "  - shape: finding the shape of data in rows x columns\n",
    "  - describe(): find statistical measures about your data including: mean, std, Q1,2,3,4 and range, and mode and median.\n",
    "  - plot(): plotting the data\n",
    "- Creating a data frame or a data series\n",
    "  - DataFrame({'COL1_NAME': [Values],'COL2_NAME': [Values]})\n",
    "  - Series({'INDEX_NAME': [Values]})\n",
    "- Important functions and cheatsheet check [Cheatsheet](./Pandas_Cheat_Sheet.pdf)\n",
    "  - lambda function\n",
    "  - join\n",
    "  - melt\n",
    "  - merge\n",
    "  - concatenate\n",
    "  and etc ..."
   ]
  },
  {
   "cell_type": "markdown",
   "metadata": {},
   "source": [
    "## Wrangling Process [Data Understanding & Data Preparation]\n",
    "- Importing the data and the required modules\n",
    "- Assessing the data\n",
    "- Documenting the observations\n",
    "- Taking action and decision regarding wrangling the data"
   ]
  },
  {
   "cell_type": "code",
   "execution_count": 2,
   "metadata": {},
   "outputs": [],
   "source": [
    "# Importing required tools\n",
    "import pandas as pd\n",
    "import seaborn as sb\n",
    "import matplotlib.pyplot as plt\n",
    "import matplotlib.dates as mdates\n",
    "from sklearn.linear_model import LinearRegression\n",
    "from sklearn.model_selection import train_test_split"
   ]
  },
  {
   "cell_type": "code",
   "execution_count": 3,
   "metadata": {},
   "outputs": [],
   "source": [
    "# Unzipping the data file since it is a zip file we add attribute compression = 'zip'\n",
    "df = pd.read_csv('covid_19_clean_complete.csv.zip',compression='zip')"
   ]
  },
  {
   "cell_type": "code",
   "execution_count": 4,
   "metadata": {},
   "outputs": [],
   "source": [
    "pd.set_option('display.max_rows',None,'display.max_colwidth',None,'display.max_columns',None)"
   ]
  },
  {
   "cell_type": "code",
   "execution_count": 5,
   "metadata": {},
   "outputs": [
    {
     "data": {
      "text/html": [
       "<div>\n",
       "<style scoped>\n",
       "    .dataframe tbody tr th:only-of-type {\n",
       "        vertical-align: middle;\n",
       "    }\n",
       "\n",
       "    .dataframe tbody tr th {\n",
       "        vertical-align: top;\n",
       "    }\n",
       "\n",
       "    .dataframe thead th {\n",
       "        text-align: right;\n",
       "    }\n",
       "</style>\n",
       "<table border=\"1\" class=\"dataframe\">\n",
       "  <thead>\n",
       "    <tr style=\"text-align: right;\">\n",
       "      <th></th>\n",
       "      <th>Province/State</th>\n",
       "      <th>Country/Region</th>\n",
       "      <th>Lat</th>\n",
       "      <th>Long</th>\n",
       "      <th>Date</th>\n",
       "      <th>Confirmed</th>\n",
       "      <th>Deaths</th>\n",
       "      <th>Recovered</th>\n",
       "      <th>Active</th>\n",
       "      <th>WHO Region</th>\n",
       "    </tr>\n",
       "  </thead>\n",
       "  <tbody>\n",
       "    <tr>\n",
       "      <th>0</th>\n",
       "      <td>NaN</td>\n",
       "      <td>Afghanistan</td>\n",
       "      <td>33.93911</td>\n",
       "      <td>67.709953</td>\n",
       "      <td>2020-01-22</td>\n",
       "      <td>0</td>\n",
       "      <td>0</td>\n",
       "      <td>0</td>\n",
       "      <td>0</td>\n",
       "      <td>Eastern Mediterranean</td>\n",
       "    </tr>\n",
       "    <tr>\n",
       "      <th>1</th>\n",
       "      <td>NaN</td>\n",
       "      <td>Albania</td>\n",
       "      <td>41.15330</td>\n",
       "      <td>20.168300</td>\n",
       "      <td>2020-01-22</td>\n",
       "      <td>0</td>\n",
       "      <td>0</td>\n",
       "      <td>0</td>\n",
       "      <td>0</td>\n",
       "      <td>Europe</td>\n",
       "    </tr>\n",
       "    <tr>\n",
       "      <th>2</th>\n",
       "      <td>NaN</td>\n",
       "      <td>Algeria</td>\n",
       "      <td>28.03390</td>\n",
       "      <td>1.659600</td>\n",
       "      <td>2020-01-22</td>\n",
       "      <td>0</td>\n",
       "      <td>0</td>\n",
       "      <td>0</td>\n",
       "      <td>0</td>\n",
       "      <td>Africa</td>\n",
       "    </tr>\n",
       "    <tr>\n",
       "      <th>3</th>\n",
       "      <td>NaN</td>\n",
       "      <td>Andorra</td>\n",
       "      <td>42.50630</td>\n",
       "      <td>1.521800</td>\n",
       "      <td>2020-01-22</td>\n",
       "      <td>0</td>\n",
       "      <td>0</td>\n",
       "      <td>0</td>\n",
       "      <td>0</td>\n",
       "      <td>Europe</td>\n",
       "    </tr>\n",
       "    <tr>\n",
       "      <th>4</th>\n",
       "      <td>NaN</td>\n",
       "      <td>Angola</td>\n",
       "      <td>-11.20270</td>\n",
       "      <td>17.873900</td>\n",
       "      <td>2020-01-22</td>\n",
       "      <td>0</td>\n",
       "      <td>0</td>\n",
       "      <td>0</td>\n",
       "      <td>0</td>\n",
       "      <td>Africa</td>\n",
       "    </tr>\n",
       "  </tbody>\n",
       "</table>\n",
       "</div>"
      ],
      "text/plain": [
       "  Province/State Country/Region       Lat       Long        Date  Confirmed  \\\n",
       "0            NaN    Afghanistan  33.93911  67.709953  2020-01-22          0   \n",
       "1            NaN        Albania  41.15330  20.168300  2020-01-22          0   \n",
       "2            NaN        Algeria  28.03390   1.659600  2020-01-22          0   \n",
       "3            NaN        Andorra  42.50630   1.521800  2020-01-22          0   \n",
       "4            NaN         Angola -11.20270  17.873900  2020-01-22          0   \n",
       "\n",
       "   Deaths  Recovered  Active             WHO Region  \n",
       "0       0          0       0  Eastern Mediterranean  \n",
       "1       0          0       0                 Europe  \n",
       "2       0          0       0                 Africa  \n",
       "3       0          0       0                 Europe  \n",
       "4       0          0       0                 Africa  "
      ]
     },
     "execution_count": 5,
     "metadata": {},
     "output_type": "execute_result"
    }
   ],
   "source": [
    "df.head()"
   ]
  },
  {
   "cell_type": "code",
   "execution_count": 6,
   "metadata": {},
   "outputs": [
    {
     "name": "stdout",
     "output_type": "stream",
     "text": [
      "<class 'pandas.core.frame.DataFrame'>\n",
      "RangeIndex: 49068 entries, 0 to 49067\n",
      "Data columns (total 10 columns):\n",
      " #   Column          Non-Null Count  Dtype  \n",
      "---  ------          --------------  -----  \n",
      " 0   Province/State  14664 non-null  object \n",
      " 1   Country/Region  49068 non-null  object \n",
      " 2   Lat             49068 non-null  float64\n",
      " 3   Long            49068 non-null  float64\n",
      " 4   Date            49068 non-null  object \n",
      " 5   Confirmed       49068 non-null  int64  \n",
      " 6   Deaths          49068 non-null  int64  \n",
      " 7   Recovered       49068 non-null  int64  \n",
      " 8   Active          49068 non-null  int64  \n",
      " 9   WHO Region      49068 non-null  object \n",
      "dtypes: float64(2), int64(4), object(4)\n",
      "memory usage: 3.7+ MB\n"
     ]
    }
   ],
   "source": [
    "df.info()"
   ]
  },
  {
   "cell_type": "code",
   "execution_count": 7,
   "metadata": {},
   "outputs": [
    {
     "data": {
      "text/html": [
       "<div>\n",
       "<style scoped>\n",
       "    .dataframe tbody tr th:only-of-type {\n",
       "        vertical-align: middle;\n",
       "    }\n",
       "\n",
       "    .dataframe tbody tr th {\n",
       "        vertical-align: top;\n",
       "    }\n",
       "\n",
       "    .dataframe thead th {\n",
       "        text-align: right;\n",
       "    }\n",
       "</style>\n",
       "<table border=\"1\" class=\"dataframe\">\n",
       "  <thead>\n",
       "    <tr style=\"text-align: right;\">\n",
       "      <th></th>\n",
       "      <th>Province/State</th>\n",
       "      <th>Country/Region</th>\n",
       "      <th>Lat</th>\n",
       "      <th>Long</th>\n",
       "      <th>Date</th>\n",
       "      <th>Confirmed</th>\n",
       "      <th>Deaths</th>\n",
       "      <th>Recovered</th>\n",
       "      <th>Active</th>\n",
       "      <th>WHO Region</th>\n",
       "    </tr>\n",
       "  </thead>\n",
       "  <tbody>\n",
       "  </tbody>\n",
       "</table>\n",
       "</div>"
      ],
      "text/plain": [
       "Empty DataFrame\n",
       "Columns: [Province/State, Country/Region, Lat, Long, Date, Confirmed, Deaths, Recovered, Active, WHO Region]\n",
       "Index: []"
      ]
     },
     "execution_count": 7,
     "metadata": {},
     "output_type": "execute_result"
    }
   ],
   "source": [
    "df[df.duplicated()] # Find duplicates"
   ]
  },
  {
   "cell_type": "code",
   "execution_count": 8,
   "metadata": {},
   "outputs": [
    {
     "data": {
      "text/plain": [
       "(49068, 10)"
      ]
     },
     "execution_count": 8,
     "metadata": {},
     "output_type": "execute_result"
    }
   ],
   "source": [
    "df.shape"
   ]
  },
  {
   "cell_type": "code",
   "execution_count": 9,
   "metadata": {},
   "outputs": [
    {
     "data": {
      "text/html": [
       "<div>\n",
       "<style scoped>\n",
       "    .dataframe tbody tr th:only-of-type {\n",
       "        vertical-align: middle;\n",
       "    }\n",
       "\n",
       "    .dataframe tbody tr th {\n",
       "        vertical-align: top;\n",
       "    }\n",
       "\n",
       "    .dataframe thead th {\n",
       "        text-align: right;\n",
       "    }\n",
       "</style>\n",
       "<table border=\"1\" class=\"dataframe\">\n",
       "  <thead>\n",
       "    <tr style=\"text-align: right;\">\n",
       "      <th></th>\n",
       "      <th>Lat</th>\n",
       "      <th>Long</th>\n",
       "      <th>Confirmed</th>\n",
       "      <th>Deaths</th>\n",
       "      <th>Recovered</th>\n",
       "      <th>Active</th>\n",
       "    </tr>\n",
       "  </thead>\n",
       "  <tbody>\n",
       "    <tr>\n",
       "      <th>count</th>\n",
       "      <td>49068.000000</td>\n",
       "      <td>49068.000000</td>\n",
       "      <td>4.906800e+04</td>\n",
       "      <td>49068.000000</td>\n",
       "      <td>4.906800e+04</td>\n",
       "      <td>4.906800e+04</td>\n",
       "    </tr>\n",
       "    <tr>\n",
       "      <th>mean</th>\n",
       "      <td>21.433730</td>\n",
       "      <td>23.528236</td>\n",
       "      <td>1.688490e+04</td>\n",
       "      <td>884.179160</td>\n",
       "      <td>7.915713e+03</td>\n",
       "      <td>8.085012e+03</td>\n",
       "    </tr>\n",
       "    <tr>\n",
       "      <th>std</th>\n",
       "      <td>24.950320</td>\n",
       "      <td>70.442740</td>\n",
       "      <td>1.273002e+05</td>\n",
       "      <td>6313.584411</td>\n",
       "      <td>5.480092e+04</td>\n",
       "      <td>7.625890e+04</td>\n",
       "    </tr>\n",
       "    <tr>\n",
       "      <th>min</th>\n",
       "      <td>-51.796300</td>\n",
       "      <td>-135.000000</td>\n",
       "      <td>0.000000e+00</td>\n",
       "      <td>0.000000</td>\n",
       "      <td>0.000000e+00</td>\n",
       "      <td>-1.400000e+01</td>\n",
       "    </tr>\n",
       "    <tr>\n",
       "      <th>25%</th>\n",
       "      <td>7.873054</td>\n",
       "      <td>-15.310100</td>\n",
       "      <td>4.000000e+00</td>\n",
       "      <td>0.000000</td>\n",
       "      <td>0.000000e+00</td>\n",
       "      <td>0.000000e+00</td>\n",
       "    </tr>\n",
       "    <tr>\n",
       "      <th>50%</th>\n",
       "      <td>23.634500</td>\n",
       "      <td>21.745300</td>\n",
       "      <td>1.680000e+02</td>\n",
       "      <td>2.000000</td>\n",
       "      <td>2.900000e+01</td>\n",
       "      <td>2.600000e+01</td>\n",
       "    </tr>\n",
       "    <tr>\n",
       "      <th>75%</th>\n",
       "      <td>41.204380</td>\n",
       "      <td>80.771797</td>\n",
       "      <td>1.518250e+03</td>\n",
       "      <td>30.000000</td>\n",
       "      <td>6.660000e+02</td>\n",
       "      <td>6.060000e+02</td>\n",
       "    </tr>\n",
       "    <tr>\n",
       "      <th>max</th>\n",
       "      <td>71.706900</td>\n",
       "      <td>178.065000</td>\n",
       "      <td>4.290259e+06</td>\n",
       "      <td>148011.000000</td>\n",
       "      <td>1.846641e+06</td>\n",
       "      <td>2.816444e+06</td>\n",
       "    </tr>\n",
       "  </tbody>\n",
       "</table>\n",
       "</div>"
      ],
      "text/plain": [
       "                Lat          Long     Confirmed         Deaths     Recovered  \\\n",
       "count  49068.000000  49068.000000  4.906800e+04   49068.000000  4.906800e+04   \n",
       "mean      21.433730     23.528236  1.688490e+04     884.179160  7.915713e+03   \n",
       "std       24.950320     70.442740  1.273002e+05    6313.584411  5.480092e+04   \n",
       "min      -51.796300   -135.000000  0.000000e+00       0.000000  0.000000e+00   \n",
       "25%        7.873054    -15.310100  4.000000e+00       0.000000  0.000000e+00   \n",
       "50%       23.634500     21.745300  1.680000e+02       2.000000  2.900000e+01   \n",
       "75%       41.204380     80.771797  1.518250e+03      30.000000  6.660000e+02   \n",
       "max       71.706900    178.065000  4.290259e+06  148011.000000  1.846641e+06   \n",
       "\n",
       "             Active  \n",
       "count  4.906800e+04  \n",
       "mean   8.085012e+03  \n",
       "std    7.625890e+04  \n",
       "min   -1.400000e+01  \n",
       "25%    0.000000e+00  \n",
       "50%    2.600000e+01  \n",
       "75%    6.060000e+02  \n",
       "max    2.816444e+06  "
      ]
     },
     "execution_count": 9,
     "metadata": {},
     "output_type": "execute_result"
    }
   ],
   "source": [
    "df.describe()"
   ]
  },
  {
   "cell_type": "markdown",
   "metadata": {},
   "source": [
    "Observations:\n",
    "1. 10 Columns and Province/State has many 35000 null value.\n",
    "2. The date variable is an object format"
   ]
  },
  {
   "cell_type": "markdown",
   "metadata": {},
   "source": [
    "Strategy (If province/state not needed):\n",
    "1. Drop the Province/State\n",
    "2. Change the date column to datetime"
   ]
  },
  {
   "cell_type": "code",
   "execution_count": 10,
   "metadata": {},
   "outputs": [],
   "source": [
    "# Dropping the Province/State column\n",
    "df.drop('Province/State',axis=1,inplace=True)"
   ]
  },
  {
   "cell_type": "code",
   "execution_count": 11,
   "metadata": {},
   "outputs": [],
   "source": [
    "df['Date'] = pd.to_datetime(df.Date)"
   ]
  },
  {
   "cell_type": "code",
   "execution_count": 12,
   "metadata": {},
   "outputs": [
    {
     "name": "stdout",
     "output_type": "stream",
     "text": [
      "<class 'pandas.core.frame.DataFrame'>\n",
      "RangeIndex: 49068 entries, 0 to 49067\n",
      "Data columns (total 9 columns):\n",
      " #   Column          Non-Null Count  Dtype         \n",
      "---  ------          --------------  -----         \n",
      " 0   Country/Region  49068 non-null  object        \n",
      " 1   Lat             49068 non-null  float64       \n",
      " 2   Long            49068 non-null  float64       \n",
      " 3   Date            49068 non-null  datetime64[ns]\n",
      " 4   Confirmed       49068 non-null  int64         \n",
      " 5   Deaths          49068 non-null  int64         \n",
      " 6   Recovered       49068 non-null  int64         \n",
      " 7   Active          49068 non-null  int64         \n",
      " 8   WHO Region      49068 non-null  object        \n",
      "dtypes: datetime64[ns](1), float64(2), int64(4), object(2)\n",
      "memory usage: 3.4+ MB\n"
     ]
    }
   ],
   "source": [
    "df.info()"
   ]
  },
  {
   "cell_type": "code",
   "execution_count": 13,
   "metadata": {},
   "outputs": [
    {
     "data": {
      "text/plain": [
       "Index(['Country/Region', 'Lat', 'Long', 'Date', 'Confirmed', 'Deaths',\n",
       "       'Recovered', 'Active', 'WHO Region'],\n",
       "      dtype='object')"
      ]
     },
     "execution_count": 13,
     "metadata": {},
     "output_type": "execute_result"
    }
   ],
   "source": [
    "df.columns"
   ]
  },
  {
   "cell_type": "code",
   "execution_count": 14,
   "metadata": {},
   "outputs": [],
   "source": [
    "AGG = df.groupby('Country/Region')[['Confirmed', 'Deaths','Recovered', 'Active']].sum()"
   ]
  },
  {
   "cell_type": "markdown",
   "metadata": {},
   "source": [
    "## Exploratory Data Analysis [EDA]"
   ]
  },
  {
   "cell_type": "code",
   "execution_count": 15,
   "metadata": {},
   "outputs": [
    {
     "data": {
      "image/png": "[encoded data removed]",
      "text/plain": [
       "<Figure size 1400x600 with 1 Axes>"
      ]
     },
     "metadata": {},
     "output_type": "display_data"
    }
   ],
   "source": [
    "plt.figure(figsize=(14,6))\n",
    "plt.plot(df['Date'],df['Deaths'])\n",
    "plt.xlabel('Date',fontweight='bold')\n",
    "plt.ylabel('Number of Deaths',fontweight='bold')\n",
    "plt.title('Number of Deaths over time')\n",
    "plt.grid()"
   ]
  },
  {
   "cell_type": "code",
   "execution_count": 16,
   "metadata": {},
   "outputs": [],
   "source": [
    "AGG = AGG.sort_values(by='Deaths',ascending=False).iloc[:10]"
   ]
  },
  {
   "cell_type": "markdown",
   "metadata": {},
   "source": [
    "Q&A:\n",
    "\n",
    "1. Number of death Top 10\n",
    "2. Number of death by date\n"
   ]
  },
  {
   "cell_type": "code",
   "execution_count": 17,
   "metadata": {},
   "outputs": [
    {
     "data": {
      "image/png": "[encoded data removed]",
      "text/plain": [
       "<Figure size 640x480 with 1 Axes>"
      ]
     },
     "metadata": {},
     "output_type": "display_data"
    }
   ],
   "source": [
    "plt.bar(x=AGG.index,height=AGG['Deaths'])\n",
    "plt.xticks(rotation=45)\n",
    "plt.grid()"
   ]
  },
  {
   "cell_type": "code",
   "execution_count": 18,
   "metadata": {},
   "outputs": [
    {
     "data": {
      "text/plain": [
       "Date\n",
       "2020-01-22    17\n",
       "2020-01-23    18\n",
       "2020-01-24    26\n",
       "2020-01-25    42\n",
       "2020-01-26    56\n",
       "Name: Deaths, dtype: int64"
      ]
     },
     "execution_count": 18,
     "metadata": {},
     "output_type": "execute_result"
    }
   ],
   "source": [
    "DEATHS_BY_DATE = df.groupby('Date')['Deaths'].sum()\n",
    "DEATHS_BY_DATE.head()"
   ]
  },
  {
   "cell_type": "code",
   "execution_count": 19,
   "metadata": {},
   "outputs": [
    {
     "data": {
      "image/png": "[encoded data removed]",
      "text/plain": [
       "<Figure size 1500x1000 with 1 Axes>"
      ]
     },
     "metadata": {},
     "output_type": "display_data"
    }
   ],
   "source": [
    "# Simulating the plot with the user's data\n",
    "fig, ax = plt.subplots(figsize=(15, 10))\n",
    "# Plotting the data\n",
    "ax.plot_date(DEATHS_BY_DATE.index, DEATHS_BY_DATE.values, linestyle='solid', marker=None)\n",
    "# Annotate each point with the value using the last day of each month\n",
    "for date in DEATHS_BY_DATE.index:\n",
    "    if date.is_month_end:\n",
    "        ax.annotate(f'{DEATHS_BY_DATE[date]:,}', \n",
    "                    (mdates.date2num(date), DEATHS_BY_DATE[date]), \n",
    "                    xytext=(0,5), \n",
    "                    textcoords='offset points', \n",
    "                    ha='center')\n",
    "# Set grid on\n",
    "ax.grid(True)\n",
    "plt.title('Actual Data of Deaths')\n",
    "# Rotate and align the tick labels so they look better\n",
    "fig.autofmt_xdate()\n",
    "\n",
    "plt.show()\n"
   ]
  },
  {
   "cell_type": "markdown",
   "metadata": {},
   "source": [
    "# Data Modelling [Machine Learning Model]"
   ]
  },
  {
   "cell_type": "markdown",
   "metadata": {},
   "source": [
    "<img src = basic_modelling1.png>"
   ]
  },
  {
   "cell_type": "markdown",
   "metadata": {},
   "source": [
    "## Machine Learning Model"
   ]
  },
  {
   "cell_type": "markdown",
   "metadata": {},
   "source": [
    "### Linear Regression: Futuristic Question 1: How many deaths expected in the next week?"
   ]
  },
  {
   "cell_type": "markdown",
   "metadata": {},
   "source": [
    "In this section, we ask ourselves a question in the future and can be answered through the use of machine learning linear regression.\n",
    "The question is:\n",
    "- How many deaths expected in the next week?"
   ]
  },
  {
   "cell_type": "code",
   "execution_count": 20,
   "metadata": {},
   "outputs": [
    {
     "data": {
      "text/plain": [
       "(188,)"
      ]
     },
     "execution_count": 20,
     "metadata": {},
     "output_type": "execute_result"
    }
   ],
   "source": [
    "DEATHS_BY_DATE.shape"
   ]
  },
  {
   "cell_type": "code",
   "execution_count": 21,
   "metadata": {},
   "outputs": [
    {
     "data": {
      "text/html": [
       "<div>\n",
       "<style scoped>\n",
       "    .dataframe tbody tr th:only-of-type {\n",
       "        vertical-align: middle;\n",
       "    }\n",
       "\n",
       "    .dataframe tbody tr th {\n",
       "        vertical-align: top;\n",
       "    }\n",
       "\n",
       "    .dataframe thead th {\n",
       "        text-align: right;\n",
       "    }\n",
       "</style>\n",
       "<table border=\"1\" class=\"dataframe\">\n",
       "  <thead>\n",
       "    <tr style=\"text-align: right;\">\n",
       "      <th></th>\n",
       "      <th>Actual</th>\n",
       "      <th>Predicted</th>\n",
       "    </tr>\n",
       "    <tr>\n",
       "      <th>Date</th>\n",
       "      <th></th>\n",
       "      <th></th>\n",
       "    </tr>\n",
       "  </thead>\n",
       "  <tbody>\n",
       "    <tr>\n",
       "      <th>2020-07-21</th>\n",
       "      <td>616557</td>\n",
       "      <td>562359.0</td>\n",
       "    </tr>\n",
       "    <tr>\n",
       "      <th>2020-07-22</th>\n",
       "      <td>623540</td>\n",
       "      <td>566176.0</td>\n",
       "    </tr>\n",
       "    <tr>\n",
       "      <th>2020-07-23</th>\n",
       "      <td>633506</td>\n",
       "      <td>569992.0</td>\n",
       "    </tr>\n",
       "    <tr>\n",
       "      <th>2020-07-24</th>\n",
       "      <td>639650</td>\n",
       "      <td>573809.0</td>\n",
       "    </tr>\n",
       "    <tr>\n",
       "      <th>2020-07-25</th>\n",
       "      <td>644517</td>\n",
       "      <td>577625.0</td>\n",
       "    </tr>\n",
       "    <tr>\n",
       "      <th>2020-07-26</th>\n",
       "      <td>648621</td>\n",
       "      <td>581442.0</td>\n",
       "    </tr>\n",
       "    <tr>\n",
       "      <th>2020-07-27</th>\n",
       "      <td>654036</td>\n",
       "      <td>585258.0</td>\n",
       "    </tr>\n",
       "  </tbody>\n",
       "</table>\n",
       "</div>"
      ],
      "text/plain": [
       "            Actual  Predicted\n",
       "Date                         \n",
       "2020-07-21  616557   562359.0\n",
       "2020-07-22  623540   566176.0\n",
       "2020-07-23  633506   569992.0\n",
       "2020-07-24  639650   573809.0\n",
       "2020-07-25  644517   577625.0\n",
       "2020-07-26  648621   581442.0\n",
       "2020-07-27  654036   585258.0"
      ]
     },
     "execution_count": 21,
     "metadata": {},
     "output_type": "execute_result"
    }
   ],
   "source": [
    "# Split the data into training and testing sets, excluding the last 7 days for testing\n",
    "train_data = DEATHS_BY_DATE[:-7]\n",
    "test_data = DEATHS_BY_DATE[-7:]\n",
    "X_train = train_data.index.map(pd.Timestamp.toordinal).values.reshape(-1, 1)\n",
    "y_train = train_data.values\n",
    "X_test = test_data.index.map(pd.Timestamp.toordinal).values.reshape(-1, 1)\n",
    "y_test = test_data.values\n",
    "# Create and fit the model on the training data\n",
    "model = LinearRegression()\n",
    "model.fit(X_train, y_train)\n",
    "# Predict on the test set\n",
    "predictions = model.predict(X_test)\n",
    "# Combine actual and predicted values into a DataFrame for comparison\n",
    "test_dates = test_data.index\n",
    "predicted_vs_actual = pd.DataFrame({\n",
    "    'Actual': y_test,\n",
    "    'Predicted': predictions.round(0)\n",
    "}, index=test_dates)\n",
    "predicted_vs_actual"
   ]
  },
  {
   "cell_type": "code",
   "execution_count": 22,
   "metadata": {},
   "outputs": [
    {
     "data": {
      "image/png": "[encoded data removed]",
      "text/plain": [
       "<Figure size 1000x600 with 1 Axes>"
      ]
     },
     "metadata": {},
     "output_type": "display_data"
    }
   ],
   "source": [
    "# Plotting the actual vs predicted values\n",
    "plt.figure(figsize=(10, 6))\n",
    "# Plot actual values\n",
    "plt.plot_date(test_data.index, y_test, linestyle='solid', marker=None, label='Actual')\n",
    "# Plot predicted values\n",
    "plt.plot_date(test_data.index, predictions.round(0), linestyle='solid', marker=None, label='Predicted')\n",
    "# Adding the legend\n",
    "plt.legend()\n",
    "# Adding a grid\n",
    "plt.grid(True)\n",
    "# Rotate and align the tick labels so they look better\n",
    "plt.gcf().autofmt_xdate()\n",
    "# Set title and labels\n",
    "plt.title('Actual vs Predicted Deaths')\n",
    "plt.xlabel('Date')\n",
    "plt.ylabel('Number of Deaths')\n",
    "# Show plot with tight layout\n",
    "plt.tight_layout()\n",
    "plt.show()\n"
   ]
  },
  {
   "cell_type": "code",
   "execution_count": 23,
   "metadata": {},
   "outputs": [
    {
     "data": {
      "text/plain": [
       "(array([3816.55779653]), -2814633718.6689014)"
      ]
     },
     "execution_count": 23,
     "metadata": {},
     "output_type": "execute_result"
    }
   ],
   "source": [
    "model.coef_,model.intercept_"
   ]
  },
  {
   "cell_type": "markdown",
   "metadata": {},
   "source": [
    "##### Findings\n",
    "- In my opinion, if we are going to use the Linear Regression, we can choose to start from a point that looks like a line start. It may be after April."
   ]
  },
  {
   "cell_type": "markdown",
   "metadata": {},
   "source": [
    "#### Retrain the model"
   ]
  },
  {
   "cell_type": "code",
   "execution_count": 24,
   "metadata": {},
   "outputs": [],
   "source": [
    "DEATHS_BY_DATE = DEATHS_BY_DATE[DEATHS_BY_DATE.index>='2020-04-01'] #Data after April 2020"
   ]
  },
  {
   "cell_type": "code",
   "execution_count": 25,
   "metadata": {},
   "outputs": [
    {
     "data": {
      "text/html": [
       "<div>\n",
       "<style scoped>\n",
       "    .dataframe tbody tr th:only-of-type {\n",
       "        vertical-align: middle;\n",
       "    }\n",
       "\n",
       "    .dataframe tbody tr th {\n",
       "        vertical-align: top;\n",
       "    }\n",
       "\n",
       "    .dataframe thead th {\n",
       "        text-align: right;\n",
       "    }\n",
       "</style>\n",
       "<table border=\"1\" class=\"dataframe\">\n",
       "  <thead>\n",
       "    <tr style=\"text-align: right;\">\n",
       "      <th></th>\n",
       "      <th>Actual</th>\n",
       "      <th>Predicted</th>\n",
       "    </tr>\n",
       "    <tr>\n",
       "      <th>Date</th>\n",
       "      <th></th>\n",
       "      <th></th>\n",
       "    </tr>\n",
       "  </thead>\n",
       "  <tbody>\n",
       "    <tr>\n",
       "      <th>2020-07-21</th>\n",
       "      <td>616557</td>\n",
       "      <td>618630.0</td>\n",
       "    </tr>\n",
       "    <tr>\n",
       "      <th>2020-07-22</th>\n",
       "      <td>623540</td>\n",
       "      <td>623487.0</td>\n",
       "    </tr>\n",
       "    <tr>\n",
       "      <th>2020-07-23</th>\n",
       "      <td>633506</td>\n",
       "      <td>628343.0</td>\n",
       "    </tr>\n",
       "    <tr>\n",
       "      <th>2020-07-24</th>\n",
       "      <td>639650</td>\n",
       "      <td>633200.0</td>\n",
       "    </tr>\n",
       "    <tr>\n",
       "      <th>2020-07-25</th>\n",
       "      <td>644517</td>\n",
       "      <td>638057.0</td>\n",
       "    </tr>\n",
       "    <tr>\n",
       "      <th>2020-07-26</th>\n",
       "      <td>648621</td>\n",
       "      <td>642913.0</td>\n",
       "    </tr>\n",
       "    <tr>\n",
       "      <th>2020-07-27</th>\n",
       "      <td>654036</td>\n",
       "      <td>647770.0</td>\n",
       "    </tr>\n",
       "  </tbody>\n",
       "</table>\n",
       "</div>"
      ],
      "text/plain": [
       "            Actual  Predicted\n",
       "Date                         \n",
       "2020-07-21  616557   618630.0\n",
       "2020-07-22  623540   623487.0\n",
       "2020-07-23  633506   628343.0\n",
       "2020-07-24  639650   633200.0\n",
       "2020-07-25  644517   638057.0\n",
       "2020-07-26  648621   642913.0\n",
       "2020-07-27  654036   647770.0"
      ]
     },
     "execution_count": 25,
     "metadata": {},
     "output_type": "execute_result"
    }
   ],
   "source": [
    "# Split the data into training and testing sets, excluding the last 7 days for testing\n",
    "train_data = DEATHS_BY_DATE[:-7]\n",
    "test_data = DEATHS_BY_DATE[-7:]\n",
    "X_train = train_data.index.map(pd.Timestamp.toordinal).values.reshape(-1, 1)\n",
    "y_train = train_data.values\n",
    "X_test = test_data.index.map(pd.Timestamp.toordinal).values.reshape(-1, 1)\n",
    "y_test = test_data.values\n",
    "# Create and fit the model on the training data\n",
    "model = LinearRegression()\n",
    "model.fit(X_train, y_train)\n",
    "# Predict on the test set\n",
    "predictions = model.predict(X_test)\n",
    "# Combine actual and predicted values into a DataFrame for comparison\n",
    "test_dates = test_data.index\n",
    "predicted_vs_actual = pd.DataFrame({\n",
    "    'Actual': y_test,\n",
    "    'Predicted': predictions.round(0)\n",
    "}, index=test_dates)\n",
    "predicted_vs_actual"
   ]
  },
  {
   "cell_type": "code",
   "execution_count": 26,
   "metadata": {},
   "outputs": [
    {
     "data": {
      "image/png": "[encoded data removed]",
      "text/plain": [
       "<Figure size 1000x600 with 1 Axes>"
      ]
     },
     "metadata": {},
     "output_type": "display_data"
    }
   ],
   "source": [
    "# Plotting the actual vs predicted values\n",
    "plt.figure(figsize=(10, 6))\n",
    "# Plot actual values\n",
    "plt.plot_date(test_data.index, y_test, linestyle='solid', marker=None, label='Actual')\n",
    "# Plot predicted values\n",
    "plt.plot_date(test_data.index, predictions.round(0), linestyle='solid', marker=None, label='Predicted')\n",
    "# Adding the legend\n",
    "plt.legend()\n",
    "# Adding a grid\n",
    "plt.grid(True)\n",
    "# Rotate and align the tick labels so they look better\n",
    "plt.gcf().autofmt_xdate()\n",
    "# Set title and labels\n",
    "plt.title('Actual vs Predicted Deaths')\n",
    "plt.xlabel('Date')\n",
    "plt.ylabel('Number of Deaths')\n",
    "# Show plot with tight layout\n",
    "plt.tight_layout()\n",
    "plt.show()"
   ]
  },
  {
   "cell_type": "markdown",
   "metadata": {},
   "source": [
    "- Better accuracy achieved!"
   ]
  },
  {
   "cell_type": "code",
   "execution_count": 27,
   "metadata": {},
   "outputs": [
    {
     "data": {
      "text/plain": [
       "(array([4856.63082661]), -3581763396.7528286)"
      ]
     },
     "execution_count": 27,
     "metadata": {},
     "output_type": "execute_result"
    }
   ],
   "source": [
    "model.coef_,model.intercept_"
   ]
  },
  {
   "cell_type": "markdown",
   "metadata": {},
   "source": [
    "### Linear Regression: Futuristic Question 2: Can we infere about deaths using other features rather than date? Example if I have the number of active cases, can I infere about deaths?"
   ]
  },
  {
   "cell_type": "markdown",
   "metadata": {},
   "source": [
    "- In this section, we learn how to find correlation between features to be then used in linear regression modelling.\n",
    "- The groupby is used to find the sum of Deaths,Active,Recovered,Confirmed"
   ]
  },
  {
   "cell_type": "code",
   "execution_count": 28,
   "metadata": {},
   "outputs": [],
   "source": [
    "AGG = df.groupby('Date',as_index=False)[['Deaths','Active','Recovered','Confirmed']].sum()"
   ]
  },
  {
   "cell_type": "code",
   "execution_count": 29,
   "metadata": {},
   "outputs": [
    {
     "data": {
      "text/html": [
       "<div>\n",
       "<style scoped>\n",
       "    .dataframe tbody tr th:only-of-type {\n",
       "        vertical-align: middle;\n",
       "    }\n",
       "\n",
       "    .dataframe tbody tr th {\n",
       "        vertical-align: top;\n",
       "    }\n",
       "\n",
       "    .dataframe thead th {\n",
       "        text-align: right;\n",
       "    }\n",
       "</style>\n",
       "<table border=\"1\" class=\"dataframe\">\n",
       "  <thead>\n",
       "    <tr style=\"text-align: right;\">\n",
       "      <th></th>\n",
       "      <th>Date</th>\n",
       "      <th>Deaths</th>\n",
       "      <th>Active</th>\n",
       "      <th>Recovered</th>\n",
       "      <th>Confirmed</th>\n",
       "    </tr>\n",
       "  </thead>\n",
       "  <tbody>\n",
       "    <tr>\n",
       "      <th>Date</th>\n",
       "      <td>1.000000</td>\n",
       "      <td>0.971103</td>\n",
       "      <td>0.970546</td>\n",
       "      <td>0.884856</td>\n",
       "      <td>0.934989</td>\n",
       "    </tr>\n",
       "    <tr>\n",
       "      <th>Deaths</th>\n",
       "      <td>0.971103</td>\n",
       "      <td>1.000000</td>\n",
       "      <td>0.996879</td>\n",
       "      <td>0.936940</td>\n",
       "      <td>0.975981</td>\n",
       "    </tr>\n",
       "    <tr>\n",
       "      <th>Active</th>\n",
       "      <td>0.970546</td>\n",
       "      <td>0.996879</td>\n",
       "      <td>1.000000</td>\n",
       "      <td>0.953981</td>\n",
       "      <td>0.986543</td>\n",
       "    </tr>\n",
       "    <tr>\n",
       "      <th>Recovered</th>\n",
       "      <td>0.884856</td>\n",
       "      <td>0.936940</td>\n",
       "      <td>0.953981</td>\n",
       "      <td>1.000000</td>\n",
       "      <td>0.990165</td>\n",
       "    </tr>\n",
       "    <tr>\n",
       "      <th>Confirmed</th>\n",
       "      <td>0.934989</td>\n",
       "      <td>0.975981</td>\n",
       "      <td>0.986543</td>\n",
       "      <td>0.990165</td>\n",
       "      <td>1.000000</td>\n",
       "    </tr>\n",
       "  </tbody>\n",
       "</table>\n",
       "</div>"
      ],
      "text/plain": [
       "               Date    Deaths    Active  Recovered  Confirmed\n",
       "Date       1.000000  0.971103  0.970546   0.884856   0.934989\n",
       "Deaths     0.971103  1.000000  0.996879   0.936940   0.975981\n",
       "Active     0.970546  0.996879  1.000000   0.953981   0.986543\n",
       "Recovered  0.884856  0.936940  0.953981   1.000000   0.990165\n",
       "Confirmed  0.934989  0.975981  0.986543   0.990165   1.000000"
      ]
     },
     "execution_count": 29,
     "metadata": {},
     "output_type": "execute_result"
    }
   ],
   "source": [
    "AGG.corr()"
   ]
  },
  {
   "cell_type": "markdown",
   "metadata": {},
   "source": [
    "## Correlation Exploration"
   ]
  },
  {
   "cell_type": "markdown",
   "metadata": {},
   "source": [
    "- Correlation means the relation between one feature and another. It measures how strong the relationship between two variables "
   ]
  },
  {
   "cell_type": "markdown",
   "metadata": {},
   "source": [
    "<img src = 'corr.png'>"
   ]
  },
  {
   "cell_type": "code",
   "execution_count": 30,
   "metadata": {},
   "outputs": [
    {
     "data": {
      "text/plain": [
       "<Axes: >"
      ]
     },
     "execution_count": 30,
     "metadata": {},
     "output_type": "execute_result"
    },
    {
     "data": {
      "image/png": "[encoded data removed]",
      "text/plain": [
       "<Figure size 800x600 with 2 Axes>"
      ]
     },
     "metadata": {},
     "output_type": "display_data"
    }
   ],
   "source": [
    "plt.figure(figsize=(8,6))\n",
    "sb.heatmap(AGG.corr(),annot=True)"
   ]
  },
  {
   "cell_type": "code",
   "execution_count": 31,
   "metadata": {},
   "outputs": [],
   "source": [
    "AGG['Date'] = AGG['Date'].map(pd.Timestamp.toordinal).values.reshape(-1, 1)"
   ]
  },
  {
   "cell_type": "code",
   "execution_count": 32,
   "metadata": {},
   "outputs": [
    {
     "data": {
      "text/html": [
       "<div>\n",
       "<style scoped>\n",
       "    .dataframe tbody tr th:only-of-type {\n",
       "        vertical-align: middle;\n",
       "    }\n",
       "\n",
       "    .dataframe tbody tr th {\n",
       "        vertical-align: top;\n",
       "    }\n",
       "\n",
       "    .dataframe thead th {\n",
       "        text-align: right;\n",
       "    }\n",
       "</style>\n",
       "<table border=\"1\" class=\"dataframe\">\n",
       "  <thead>\n",
       "    <tr style=\"text-align: right;\">\n",
       "      <th></th>\n",
       "      <th>Date</th>\n",
       "      <th>Deaths</th>\n",
       "      <th>Active</th>\n",
       "      <th>Recovered</th>\n",
       "      <th>Confirmed</th>\n",
       "    </tr>\n",
       "  </thead>\n",
       "  <tbody>\n",
       "    <tr>\n",
       "      <th>0</th>\n",
       "      <td>737446</td>\n",
       "      <td>17</td>\n",
       "      <td>510</td>\n",
       "      <td>28</td>\n",
       "      <td>555</td>\n",
       "    </tr>\n",
       "  </tbody>\n",
       "</table>\n",
       "</div>"
      ],
      "text/plain": [
       "     Date  Deaths  Active  Recovered  Confirmed\n",
       "0  737446      17     510         28        555"
      ]
     },
     "execution_count": 32,
     "metadata": {},
     "output_type": "execute_result"
    }
   ],
   "source": [
    "AGG.head(1)"
   ]
  },
  {
   "cell_type": "code",
   "execution_count": 33,
   "metadata": {},
   "outputs": [
    {
     "data": {
      "text/html": [
       "<div>\n",
       "<style scoped>\n",
       "    .dataframe tbody tr th:only-of-type {\n",
       "        vertical-align: middle;\n",
       "    }\n",
       "\n",
       "    .dataframe tbody tr th {\n",
       "        vertical-align: top;\n",
       "    }\n",
       "\n",
       "    .dataframe thead th {\n",
       "        text-align: right;\n",
       "    }\n",
       "</style>\n",
       "<table border=\"1\" class=\"dataframe\">\n",
       "  <thead>\n",
       "    <tr style=\"text-align: right;\">\n",
       "      <th></th>\n",
       "      <th>Actual</th>\n",
       "      <th>Predicted</th>\n",
       "    </tr>\n",
       "  </thead>\n",
       "  <tbody>\n",
       "    <tr>\n",
       "      <th>181</th>\n",
       "      <td>616557</td>\n",
       "      <td>616557.0</td>\n",
       "    </tr>\n",
       "    <tr>\n",
       "      <th>182</th>\n",
       "      <td>623540</td>\n",
       "      <td>623540.0</td>\n",
       "    </tr>\n",
       "    <tr>\n",
       "      <th>183</th>\n",
       "      <td>633506</td>\n",
       "      <td>633506.0</td>\n",
       "    </tr>\n",
       "    <tr>\n",
       "      <th>184</th>\n",
       "      <td>639650</td>\n",
       "      <td>639650.0</td>\n",
       "    </tr>\n",
       "    <tr>\n",
       "      <th>185</th>\n",
       "      <td>644517</td>\n",
       "      <td>644517.0</td>\n",
       "    </tr>\n",
       "    <tr>\n",
       "      <th>186</th>\n",
       "      <td>648621</td>\n",
       "      <td>648621.0</td>\n",
       "    </tr>\n",
       "    <tr>\n",
       "      <th>187</th>\n",
       "      <td>654036</td>\n",
       "      <td>654036.0</td>\n",
       "    </tr>\n",
       "  </tbody>\n",
       "</table>\n",
       "</div>"
      ],
      "text/plain": [
       "     Actual  Predicted\n",
       "181  616557   616557.0\n",
       "182  623540   623540.0\n",
       "183  633506   633506.0\n",
       "184  639650   639650.0\n",
       "185  644517   644517.0\n",
       "186  648621   648621.0\n",
       "187  654036   654036.0"
      ]
     },
     "execution_count": 33,
     "metadata": {},
     "output_type": "execute_result"
    }
   ],
   "source": [
    "# Split the data into training and testing sets, excluding the last 7 days for testing\n",
    "train_data = AGG[:-7]\n",
    "test_data = AGG[-7:]\n",
    "X_train = train_data.values[:,[0,2,3,4]]\n",
    "y_train = train_data.values[:,1] #deaths\n",
    "X_test = test_data.values[:,[0,2,3,4]]\n",
    "y_test = test_data.values[:,1]\n",
    "# Create and fit the model on the training data\n",
    "model = LinearRegression()\n",
    "model.fit(X_train, y_train)\n",
    "# Predict on the test set\n",
    "predictions = model.predict(X_test)\n",
    "# Combine actual and predicted values into a DataFrame for comparison\n",
    "test_dates = test_data.index\n",
    "predicted_vs_actual = pd.DataFrame({\n",
    "    'Actual': y_test,\n",
    "    'Predicted': predictions.round(0)\n",
    "}, index=test_dates)\n",
    "predicted_vs_actual"
   ]
  },
  {
   "cell_type": "code",
   "execution_count": 34,
   "metadata": {},
   "outputs": [
    {
     "data": {
      "text/plain": [
       "(array([-4.19404685e-11, -1.00000000e+00, -1.00000000e+00,  1.00000000e+00]),\n",
       " 3.0929979402571917e-05)"
      ]
     },
     "execution_count": 34,
     "metadata": {},
     "output_type": "execute_result"
    }
   ],
   "source": [
    "model.coef_,model.intercept_"
   ]
  },
  {
   "cell_type": "markdown",
   "metadata": {},
   "source": [
    "## Lab Work: Build your own model to answer the following question: - How many recovery are expected to occur in the next 10 days? \n",
    "- Note: You are allowed to use multiple features as input, you can use the correlation matrix to find relation between features"
   ]
  },
  {
   "cell_type": "code",
   "execution_count": 35,
   "metadata": {},
   "outputs": [
    {
     "data": {
      "text/html": [
       "<div>\n",
       "<style scoped>\n",
       "    .dataframe tbody tr th:only-of-type {\n",
       "        vertical-align: middle;\n",
       "    }\n",
       "\n",
       "    .dataframe tbody tr th {\n",
       "        vertical-align: top;\n",
       "    }\n",
       "\n",
       "    .dataframe thead th {\n",
       "        text-align: right;\n",
       "    }\n",
       "</style>\n",
       "<table border=\"1\" class=\"dataframe\">\n",
       "  <thead>\n",
       "    <tr style=\"text-align: right;\">\n",
       "      <th></th>\n",
       "      <th>Actual</th>\n",
       "      <th>Predicted</th>\n",
       "    </tr>\n",
       "  </thead>\n",
       "  <tbody>\n",
       "    <tr>\n",
       "      <th>178</th>\n",
       "      <td>7944550</td>\n",
       "      <td>7944550.0</td>\n",
       "    </tr>\n",
       "    <tr>\n",
       "      <th>179</th>\n",
       "      <td>8032235</td>\n",
       "      <td>8032235.0</td>\n",
       "    </tr>\n",
       "    <tr>\n",
       "      <th>180</th>\n",
       "      <td>8190777</td>\n",
       "      <td>8190777.0</td>\n",
       "    </tr>\n",
       "    <tr>\n",
       "      <th>181</th>\n",
       "      <td>8364986</td>\n",
       "      <td>8364986.0</td>\n",
       "    </tr>\n",
       "    <tr>\n",
       "      <th>182</th>\n",
       "      <td>8541255</td>\n",
       "      <td>8541255.0</td>\n",
       "    </tr>\n",
       "    <tr>\n",
       "      <th>183</th>\n",
       "      <td>8710969</td>\n",
       "      <td>8710969.0</td>\n",
       "    </tr>\n",
       "    <tr>\n",
       "      <th>184</th>\n",
       "      <td>8939705</td>\n",
       "      <td>8939705.0</td>\n",
       "    </tr>\n",
       "    <tr>\n",
       "      <th>185</th>\n",
       "      <td>9158743</td>\n",
       "      <td>9158743.0</td>\n",
       "    </tr>\n",
       "    <tr>\n",
       "      <th>186</th>\n",
       "      <td>9293464</td>\n",
       "      <td>9293464.0</td>\n",
       "    </tr>\n",
       "    <tr>\n",
       "      <th>187</th>\n",
       "      <td>9468087</td>\n",
       "      <td>9468087.0</td>\n",
       "    </tr>\n",
       "  </tbody>\n",
       "</table>\n",
       "</div>"
      ],
      "text/plain": [
       "      Actual  Predicted\n",
       "178  7944550  7944550.0\n",
       "179  8032235  8032235.0\n",
       "180  8190777  8190777.0\n",
       "181  8364986  8364986.0\n",
       "182  8541255  8541255.0\n",
       "183  8710969  8710969.0\n",
       "184  8939705  8939705.0\n",
       "185  9158743  9158743.0\n",
       "186  9293464  9293464.0\n",
       "187  9468087  9468087.0"
      ]
     },
     "execution_count": 35,
     "metadata": {},
     "output_type": "execute_result"
    }
   ],
   "source": [
    "# Split the data into training and testing sets, excluding the last 7 days for testing\n",
    "train_data = AGG[:-10]\n",
    "test_data = AGG[-10:]\n",
    "X_train = train_data.values[:,[0,1,2,4]]\n",
    "y_train = train_data.values[:,3] #deaths\n",
    "X_test = test_data.values[:,[0,1,2,4]]\n",
    "y_test = test_data.values[:,3]\n",
    "# Create and fit the model on the training data\n",
    "model = LinearRegression()\n",
    "model.fit(X_train, y_train)\n",
    "# Predict on the test set\n",
    "predictions = model.predict(X_test)\n",
    "# Combine actual and predicted values into a DataFrame for comparison\n",
    "test_dates = test_data.index\n",
    "predicted_vs_actual = pd.DataFrame({\n",
    "    'Actual': y_test,\n",
    "    'Predicted': predictions.round(0)\n",
    "}, index=test_dates)\n",
    "predicted_vs_actual"
   ]
  },
  {
   "cell_type": "markdown",
   "metadata": {},
   "source": [
    "# Logistic Regression"
   ]
  },
  {
   "cell_type": "markdown",
   "metadata": {},
   "source": [
    "Logistic Regression is a statistical and machine learning technique used for classification tasks, particularly binary classification. It is used to predict the probability of a target variable (dependent variable) based on one or more predictor variables (independent variables). Despite its name, logistic regression is used for classification rather than regression tasks.\n",
    "\n",
    "### Input:\n",
    "- **Predictor Variables (Features)**: The input to logistic regression can be one or more predictor variables (X) that can be either continuous or categorical. These variables are used to predict the outcome of the target variable.\n",
    "- **Target Variable (Label)**: The target variable (Y) in logistic regression is binary, meaning it can take on only two possible outcomes. For example, \"1\" for success and \"0\" for failure, or \"yes\" for presence and \"no\" for absence of a condition.\n",
    "\n",
    "### Output:\n",
    "- **Probability**: The output of logistic regression is a probability that ranges between 0 and 1. This probability represents the likelihood of the target variable being in one of the two classes (e.g., 1 or 0, yes or no). Based on a threshold (commonly 0.5), the model assigns each observation to one of the two classes.\n",
    "\n",
    "### How It Works:\n",
    "1. **Logistic Function (Sigmoid Function)**: Logistic regression uses the logistic (sigmoid) function to model the probability that each input belongs to a particular category. The sigmoid function outputs a value between 0 and 1, which is interpreted as a probability. The function is defined as:\n",
    "$$ P(Y=1) = \\frac{1}{1 + e^{-(\\beta_0 + \\beta_1X_1 + \\dots + \\beta_kX_k)}} $$\n",
    "\n",
    "- **Where:**\n",
    "\n",
    "    - **P(Y=1)**: is the probability that the target variable Y is in class 1.\n",
    "    - **e**: is the base of the natural logarithm.\n",
    "    - **β0, β1, ..., βk**: are the coefficients of the model.\n",
    "    - **X1, ..., Xk**: are the predictor variables.\n",
    "\n",
    "2. **Estimating Coefficients**: The coefficients (\\(\\beta\\)) of the logistic regression model are estimated using maximum likelihood estimation (MLE). This method finds the set of coefficients that maximizes the likelihood of the observed set of responses with the given set of predictor variables.\n",
    "\n",
    "3. **Decision Boundary**: Logistic regression models the decision boundary between the classes. The decision boundary can be linear or nonlinear, depending on the logistic regression variant used (e.g., linear logistic regression or logistic regression with polynomial features).\n",
    "\n",
    "4. **Classification and Probability Estimation**: Once the model is trained (i.e., the coefficients are estimated), it can be used to predict the probability of new observations belonging to each class. If the predicted probability is greater than or equal to 0.5, the observation is classified into class 1; otherwise, it is classified into class 0.\n",
    "\n",
    "Logistic regression is widely used in various fields such as medicine, finance, and social sciences for binary classification problems because of its simplicity, interpretability, and effectiveness in situations where the relationship between the predictor variables and the log odds of the outcome is approximately linear."
   ]
  },
  {
   "cell_type": "markdown",
   "metadata": {},
   "source": [
    "### Dependencies"
   ]
  },
  {
   "cell_type": "code",
   "execution_count": 17,
   "metadata": {},
   "outputs": [],
   "source": [
    "import numpy as np\n",
    "import pandas as pd\n",
    "import matplotlib.pyplot as plt\n",
    "import seaborn as sb\n",
    "from sklearn.linear_model import LogisticRegression\n",
    "from sklearn.neighbors import KNeighborsClassifier as KNN\n",
    "from sklearn.model_selection import train_test_split\n",
    "from sklearn.preprocessing import StandardScaler\n",
    "from sklearn.metrics import classification_report, accuracy_score, confusion_matrix"
   ]
  },
  {
   "cell_type": "markdown",
   "metadata": {},
   "source": [
    "### Data Wrangling [Data Preparation]"
   ]
  },
  {
   "cell_type": "markdown",
   "metadata": {},
   "source": [
    "\n",
    "**Covid-19 Classification Data**\n",
    "\n",
    "Contains a vast number of anonymized patient-related information including pre-conditions. The raw dataset consists of 21 different features and 1,048,576 unique patients. In the Boolean features, 1 means \"yes\" and 2 means \"no\". values as 97 and 99 are missing data.\n",
    "\n",
    "Dataset Source: https://www.kaggle.com/datasets/meirnizri/covid19-dataset?resource=download\n",
    "\n",
    "**Attributes** :\n",
    " \n",
    "content\n",
    "The dataset was provided by the Mexican government (link). This dataset contains an enormous number of anonymized patient-related information including pre-conditions. The raw dataset consists of 21 unique features and 1,048,576 unique patients. In the Boolean features, 1 means \"yes\" and 2 means \"no\". values as 97 and 99 are missing data.\n",
    "\n",
    "- sex: 1 for female and 2 for male.\n",
    "- age: of the patient.\n",
    "- classification: covid test findings. Values 1-3 mean that the patient was diagnosed with covid in different degrees. 4 or higher means that the patient is not a carrier of covid or that the test is inconclusive.\n",
    "- patient type: type of care the patient received in the unit. 1 for returned home and 2 for hospitalization.\n",
    "- pneumonia: whether the patient already have air sacs inflammation or not.\n",
    "- pregnancy: whether the patient is pregnant or not.\n",
    "- diabetes: whether the patient has diabetes or not.\n",
    "- copd: Indicates whether the patient has Chronic obstructive pulmonary disease or not.\n",
    "- asthma: whether the patient has asthma or not.\n",
    "- inmsupr: whether the patient is immunosuppressed or not.\n",
    "- hypertension: whether the patient has hypertension or not.\n",
    "- cardiovascular: whether the patient has heart or blood vessels related disease.\n",
    "- renal chronic: whether the patient has chronic renal disease or not.\n",
    "- other disease: whether the patient has other disease or not.\n",
    "- obesity: whether the patient is obese or not.\n",
    "- tobacco: whether the patient is a tobacco user.\n",
    "- usmr: Indicates whether the patient treated medical units of the first, second or third level.\n",
    "- medical unit: type of institution of the National Health System that provided the care.\n",
    "- intubed: whether the patient was connected to the ventilator.\n",
    "- icu: Indicates whether the patient had been admitted to an Intensive Care Unit.\n",
    "- date died: If the patient died indicate the date of death, and 9999-99-99 otherwise."
   ]
  },
  {
   "cell_type": "code",
   "execution_count": 20,
   "metadata": {},
   "outputs": [],
   "source": [
    "data = pd.read_csv('classification_covid.zip',compression='zip')\n",
    "pd.set_option('display.max_columns',None,'display.max_rows',None,'display.max_colwidth',None)"
   ]
  },
  {
   "cell_type": "code",
   "execution_count": 9,
   "metadata": {},
   "outputs": [
    {
     "name": "stdout",
     "output_type": "stream",
     "text": [
      "<class 'pandas.core.frame.DataFrame'>\n",
      "RangeIndex: 1048575 entries, 0 to 1048574\n",
      "Data columns (total 21 columns):\n",
      " #   Column                Non-Null Count    Dtype \n",
      "---  ------                --------------    ----- \n",
      " 0   USMER                 1048575 non-null  int64 \n",
      " 1   MEDICAL_UNIT          1048575 non-null  int64 \n",
      " 2   SEX                   1048575 non-null  int64 \n",
      " 3   PATIENT_TYPE          1048575 non-null  int64 \n",
      " 4   DATE_DIED             1048575 non-null  object\n",
      " 5   INTUBED               1048575 non-null  int64 \n",
      " 6   PNEUMONIA             1048575 non-null  int64 \n",
      " 7   AGE                   1048575 non-null  int64 \n",
      " 8   PREGNANT              1048575 non-null  int64 \n",
      " 9   DIABETES              1048575 non-null  int64 \n",
      " 10  COPD                  1048575 non-null  int64 \n",
      " 11  ASTHMA                1048575 non-null  int64 \n",
      " 12  INMSUPR               1048575 non-null  int64 \n",
      " 13  HIPERTENSION          1048575 non-null  int64 \n",
      " 14  OTHER_DISEASE         1048575 non-null  int64 \n",
      " 15  CARDIOVASCULAR        1048575 non-null  int64 \n",
      " 16  OBESITY               1048575 non-null  int64 \n",
      " 17  RENAL_CHRONIC         1048575 non-null  int64 \n",
      " 18  TOBACCO               1048575 non-null  int64 \n",
      " 19  CLASIFFICATION_FINAL  1048575 non-null  int64 \n",
      " 20  ICU                   1048575 non-null  int64 \n",
      "dtypes: int64(20), object(1)\n",
      "memory usage: 168.0+ MB\n"
     ]
    }
   ],
   "source": [
    "data.info()"
   ]
  },
  {
   "cell_type": "code",
   "execution_count": 10,
   "metadata": {},
   "outputs": [
    {
     "data": {
      "text/html": [
       "<div>\n",
       "<style scoped>\n",
       "    .dataframe tbody tr th:only-of-type {\n",
       "        vertical-align: middle;\n",
       "    }\n",
       "\n",
       "    .dataframe tbody tr th {\n",
       "        vertical-align: top;\n",
       "    }\n",
       "\n",
       "    .dataframe thead th {\n",
       "        text-align: right;\n",
       "    }\n",
       "</style>\n",
       "<table border=\"1\" class=\"dataframe\">\n",
       "  <thead>\n",
       "    <tr style=\"text-align: right;\">\n",
       "      <th></th>\n",
       "      <th>USMER</th>\n",
       "      <th>MEDICAL_UNIT</th>\n",
       "      <th>SEX</th>\n",
       "      <th>PATIENT_TYPE</th>\n",
       "      <th>DATE_DIED</th>\n",
       "      <th>INTUBED</th>\n",
       "      <th>PNEUMONIA</th>\n",
       "      <th>AGE</th>\n",
       "      <th>PREGNANT</th>\n",
       "      <th>DIABETES</th>\n",
       "      <th>COPD</th>\n",
       "      <th>ASTHMA</th>\n",
       "      <th>INMSUPR</th>\n",
       "      <th>HIPERTENSION</th>\n",
       "      <th>OTHER_DISEASE</th>\n",
       "      <th>CARDIOVASCULAR</th>\n",
       "      <th>OBESITY</th>\n",
       "      <th>RENAL_CHRONIC</th>\n",
       "      <th>TOBACCO</th>\n",
       "      <th>CLASIFFICATION_FINAL</th>\n",
       "      <th>ICU</th>\n",
       "    </tr>\n",
       "  </thead>\n",
       "  <tbody>\n",
       "    <tr>\n",
       "      <th>262401</th>\n",
       "      <td>2</td>\n",
       "      <td>4</td>\n",
       "      <td>2</td>\n",
       "      <td>1</td>\n",
       "      <td>9999-99-99</td>\n",
       "      <td>97</td>\n",
       "      <td>2</td>\n",
       "      <td>21</td>\n",
       "      <td>97</td>\n",
       "      <td>2</td>\n",
       "      <td>2</td>\n",
       "      <td>2</td>\n",
       "      <td>2</td>\n",
       "      <td>2</td>\n",
       "      <td>2</td>\n",
       "      <td>2</td>\n",
       "      <td>2</td>\n",
       "      <td>2</td>\n",
       "      <td>2</td>\n",
       "      <td>7</td>\n",
       "      <td>97</td>\n",
       "    </tr>\n",
       "    <tr>\n",
       "      <th>927772</th>\n",
       "      <td>1</td>\n",
       "      <td>12</td>\n",
       "      <td>1</td>\n",
       "      <td>1</td>\n",
       "      <td>9999-99-99</td>\n",
       "      <td>97</td>\n",
       "      <td>2</td>\n",
       "      <td>32</td>\n",
       "      <td>2</td>\n",
       "      <td>2</td>\n",
       "      <td>2</td>\n",
       "      <td>2</td>\n",
       "      <td>2</td>\n",
       "      <td>2</td>\n",
       "      <td>98</td>\n",
       "      <td>2</td>\n",
       "      <td>2</td>\n",
       "      <td>2</td>\n",
       "      <td>2</td>\n",
       "      <td>7</td>\n",
       "      <td>97</td>\n",
       "    </tr>\n",
       "    <tr>\n",
       "      <th>65999</th>\n",
       "      <td>1</td>\n",
       "      <td>4</td>\n",
       "      <td>2</td>\n",
       "      <td>2</td>\n",
       "      <td>9999-99-99</td>\n",
       "      <td>2</td>\n",
       "      <td>2</td>\n",
       "      <td>50</td>\n",
       "      <td>97</td>\n",
       "      <td>2</td>\n",
       "      <td>2</td>\n",
       "      <td>2</td>\n",
       "      <td>2</td>\n",
       "      <td>2</td>\n",
       "      <td>2</td>\n",
       "      <td>2</td>\n",
       "      <td>2</td>\n",
       "      <td>2</td>\n",
       "      <td>2</td>\n",
       "      <td>3</td>\n",
       "      <td>2</td>\n",
       "    </tr>\n",
       "    <tr>\n",
       "      <th>538475</th>\n",
       "      <td>2</td>\n",
       "      <td>12</td>\n",
       "      <td>1</td>\n",
       "      <td>1</td>\n",
       "      <td>9999-99-99</td>\n",
       "      <td>97</td>\n",
       "      <td>2</td>\n",
       "      <td>25</td>\n",
       "      <td>1</td>\n",
       "      <td>2</td>\n",
       "      <td>2</td>\n",
       "      <td>2</td>\n",
       "      <td>2</td>\n",
       "      <td>2</td>\n",
       "      <td>2</td>\n",
       "      <td>2</td>\n",
       "      <td>2</td>\n",
       "      <td>2</td>\n",
       "      <td>2</td>\n",
       "      <td>3</td>\n",
       "      <td>97</td>\n",
       "    </tr>\n",
       "    <tr>\n",
       "      <th>717126</th>\n",
       "      <td>1</td>\n",
       "      <td>12</td>\n",
       "      <td>1</td>\n",
       "      <td>1</td>\n",
       "      <td>9999-99-99</td>\n",
       "      <td>97</td>\n",
       "      <td>2</td>\n",
       "      <td>31</td>\n",
       "      <td>2</td>\n",
       "      <td>1</td>\n",
       "      <td>2</td>\n",
       "      <td>2</td>\n",
       "      <td>2</td>\n",
       "      <td>2</td>\n",
       "      <td>2</td>\n",
       "      <td>2</td>\n",
       "      <td>2</td>\n",
       "      <td>2</td>\n",
       "      <td>2</td>\n",
       "      <td>6</td>\n",
       "      <td>97</td>\n",
       "    </tr>\n",
       "    <tr>\n",
       "      <th>774321</th>\n",
       "      <td>2</td>\n",
       "      <td>12</td>\n",
       "      <td>2</td>\n",
       "      <td>1</td>\n",
       "      <td>9999-99-99</td>\n",
       "      <td>97</td>\n",
       "      <td>2</td>\n",
       "      <td>44</td>\n",
       "      <td>97</td>\n",
       "      <td>2</td>\n",
       "      <td>2</td>\n",
       "      <td>2</td>\n",
       "      <td>2</td>\n",
       "      <td>2</td>\n",
       "      <td>2</td>\n",
       "      <td>2</td>\n",
       "      <td>2</td>\n",
       "      <td>2</td>\n",
       "      <td>2</td>\n",
       "      <td>7</td>\n",
       "      <td>97</td>\n",
       "    </tr>\n",
       "    <tr>\n",
       "      <th>948796</th>\n",
       "      <td>2</td>\n",
       "      <td>12</td>\n",
       "      <td>1</td>\n",
       "      <td>1</td>\n",
       "      <td>9999-99-99</td>\n",
       "      <td>97</td>\n",
       "      <td>2</td>\n",
       "      <td>41</td>\n",
       "      <td>2</td>\n",
       "      <td>2</td>\n",
       "      <td>2</td>\n",
       "      <td>2</td>\n",
       "      <td>2</td>\n",
       "      <td>2</td>\n",
       "      <td>2</td>\n",
       "      <td>2</td>\n",
       "      <td>2</td>\n",
       "      <td>2</td>\n",
       "      <td>2</td>\n",
       "      <td>7</td>\n",
       "      <td>97</td>\n",
       "    </tr>\n",
       "    <tr>\n",
       "      <th>672174</th>\n",
       "      <td>2</td>\n",
       "      <td>12</td>\n",
       "      <td>1</td>\n",
       "      <td>1</td>\n",
       "      <td>9999-99-99</td>\n",
       "      <td>97</td>\n",
       "      <td>2</td>\n",
       "      <td>60</td>\n",
       "      <td>2</td>\n",
       "      <td>1</td>\n",
       "      <td>2</td>\n",
       "      <td>2</td>\n",
       "      <td>2</td>\n",
       "      <td>2</td>\n",
       "      <td>2</td>\n",
       "      <td>2</td>\n",
       "      <td>2</td>\n",
       "      <td>2</td>\n",
       "      <td>2</td>\n",
       "      <td>5</td>\n",
       "      <td>97</td>\n",
       "    </tr>\n",
       "    <tr>\n",
       "      <th>308172</th>\n",
       "      <td>2</td>\n",
       "      <td>4</td>\n",
       "      <td>2</td>\n",
       "      <td>1</td>\n",
       "      <td>9999-99-99</td>\n",
       "      <td>97</td>\n",
       "      <td>2</td>\n",
       "      <td>38</td>\n",
       "      <td>97</td>\n",
       "      <td>2</td>\n",
       "      <td>2</td>\n",
       "      <td>2</td>\n",
       "      <td>2</td>\n",
       "      <td>2</td>\n",
       "      <td>2</td>\n",
       "      <td>2</td>\n",
       "      <td>2</td>\n",
       "      <td>2</td>\n",
       "      <td>2</td>\n",
       "      <td>7</td>\n",
       "      <td>97</td>\n",
       "    </tr>\n",
       "    <tr>\n",
       "      <th>681224</th>\n",
       "      <td>1</td>\n",
       "      <td>12</td>\n",
       "      <td>1</td>\n",
       "      <td>1</td>\n",
       "      <td>9999-99-99</td>\n",
       "      <td>97</td>\n",
       "      <td>99</td>\n",
       "      <td>13</td>\n",
       "      <td>2</td>\n",
       "      <td>2</td>\n",
       "      <td>2</td>\n",
       "      <td>2</td>\n",
       "      <td>2</td>\n",
       "      <td>2</td>\n",
       "      <td>2</td>\n",
       "      <td>2</td>\n",
       "      <td>2</td>\n",
       "      <td>2</td>\n",
       "      <td>2</td>\n",
       "      <td>6</td>\n",
       "      <td>97</td>\n",
       "    </tr>\n",
       "    <tr>\n",
       "      <th>487829</th>\n",
       "      <td>2</td>\n",
       "      <td>12</td>\n",
       "      <td>2</td>\n",
       "      <td>1</td>\n",
       "      <td>9999-99-99</td>\n",
       "      <td>97</td>\n",
       "      <td>1</td>\n",
       "      <td>36</td>\n",
       "      <td>97</td>\n",
       "      <td>2</td>\n",
       "      <td>2</td>\n",
       "      <td>2</td>\n",
       "      <td>2</td>\n",
       "      <td>2</td>\n",
       "      <td>2</td>\n",
       "      <td>2</td>\n",
       "      <td>2</td>\n",
       "      <td>2</td>\n",
       "      <td>2</td>\n",
       "      <td>3</td>\n",
       "      <td>97</td>\n",
       "    </tr>\n",
       "    <tr>\n",
       "      <th>188326</th>\n",
       "      <td>2</td>\n",
       "      <td>4</td>\n",
       "      <td>2</td>\n",
       "      <td>1</td>\n",
       "      <td>9999-99-99</td>\n",
       "      <td>97</td>\n",
       "      <td>2</td>\n",
       "      <td>30</td>\n",
       "      <td>97</td>\n",
       "      <td>2</td>\n",
       "      <td>2</td>\n",
       "      <td>2</td>\n",
       "      <td>2</td>\n",
       "      <td>2</td>\n",
       "      <td>2</td>\n",
       "      <td>2</td>\n",
       "      <td>1</td>\n",
       "      <td>2</td>\n",
       "      <td>1</td>\n",
       "      <td>6</td>\n",
       "      <td>97</td>\n",
       "    </tr>\n",
       "    <tr>\n",
       "      <th>980447</th>\n",
       "      <td>2</td>\n",
       "      <td>12</td>\n",
       "      <td>1</td>\n",
       "      <td>1</td>\n",
       "      <td>9999-99-99</td>\n",
       "      <td>97</td>\n",
       "      <td>2</td>\n",
       "      <td>29</td>\n",
       "      <td>2</td>\n",
       "      <td>2</td>\n",
       "      <td>2</td>\n",
       "      <td>2</td>\n",
       "      <td>2</td>\n",
       "      <td>2</td>\n",
       "      <td>2</td>\n",
       "      <td>2</td>\n",
       "      <td>1</td>\n",
       "      <td>2</td>\n",
       "      <td>2</td>\n",
       "      <td>7</td>\n",
       "      <td>97</td>\n",
       "    </tr>\n",
       "    <tr>\n",
       "      <th>511163</th>\n",
       "      <td>2</td>\n",
       "      <td>12</td>\n",
       "      <td>1</td>\n",
       "      <td>1</td>\n",
       "      <td>9999-99-99</td>\n",
       "      <td>97</td>\n",
       "      <td>2</td>\n",
       "      <td>28</td>\n",
       "      <td>2</td>\n",
       "      <td>2</td>\n",
       "      <td>2</td>\n",
       "      <td>2</td>\n",
       "      <td>2</td>\n",
       "      <td>2</td>\n",
       "      <td>2</td>\n",
       "      <td>2</td>\n",
       "      <td>2</td>\n",
       "      <td>2</td>\n",
       "      <td>1</td>\n",
       "      <td>3</td>\n",
       "      <td>97</td>\n",
       "    </tr>\n",
       "    <tr>\n",
       "      <th>820035</th>\n",
       "      <td>1</td>\n",
       "      <td>12</td>\n",
       "      <td>1</td>\n",
       "      <td>1</td>\n",
       "      <td>9999-99-99</td>\n",
       "      <td>97</td>\n",
       "      <td>2</td>\n",
       "      <td>22</td>\n",
       "      <td>98</td>\n",
       "      <td>2</td>\n",
       "      <td>2</td>\n",
       "      <td>1</td>\n",
       "      <td>2</td>\n",
       "      <td>2</td>\n",
       "      <td>2</td>\n",
       "      <td>2</td>\n",
       "      <td>2</td>\n",
       "      <td>2</td>\n",
       "      <td>2</td>\n",
       "      <td>7</td>\n",
       "      <td>97</td>\n",
       "    </tr>\n",
       "    <tr>\n",
       "      <th>586662</th>\n",
       "      <td>1</td>\n",
       "      <td>12</td>\n",
       "      <td>2</td>\n",
       "      <td>2</td>\n",
       "      <td>9999-99-99</td>\n",
       "      <td>2</td>\n",
       "      <td>2</td>\n",
       "      <td>35</td>\n",
       "      <td>97</td>\n",
       "      <td>1</td>\n",
       "      <td>2</td>\n",
       "      <td>2</td>\n",
       "      <td>2</td>\n",
       "      <td>1</td>\n",
       "      <td>2</td>\n",
       "      <td>2</td>\n",
       "      <td>2</td>\n",
       "      <td>2</td>\n",
       "      <td>2</td>\n",
       "      <td>3</td>\n",
       "      <td>2</td>\n",
       "    </tr>\n",
       "    <tr>\n",
       "      <th>335515</th>\n",
       "      <td>2</td>\n",
       "      <td>5</td>\n",
       "      <td>1</td>\n",
       "      <td>2</td>\n",
       "      <td>9999-99-99</td>\n",
       "      <td>2</td>\n",
       "      <td>2</td>\n",
       "      <td>56</td>\n",
       "      <td>2</td>\n",
       "      <td>1</td>\n",
       "      <td>2</td>\n",
       "      <td>1</td>\n",
       "      <td>2</td>\n",
       "      <td>1</td>\n",
       "      <td>2</td>\n",
       "      <td>2</td>\n",
       "      <td>2</td>\n",
       "      <td>2</td>\n",
       "      <td>2</td>\n",
       "      <td>3</td>\n",
       "      <td>2</td>\n",
       "    </tr>\n",
       "    <tr>\n",
       "      <th>241917</th>\n",
       "      <td>2</td>\n",
       "      <td>4</td>\n",
       "      <td>1</td>\n",
       "      <td>2</td>\n",
       "      <td>9999-99-99</td>\n",
       "      <td>2</td>\n",
       "      <td>1</td>\n",
       "      <td>37</td>\n",
       "      <td>2</td>\n",
       "      <td>2</td>\n",
       "      <td>2</td>\n",
       "      <td>2</td>\n",
       "      <td>2</td>\n",
       "      <td>2</td>\n",
       "      <td>2</td>\n",
       "      <td>2</td>\n",
       "      <td>2</td>\n",
       "      <td>2</td>\n",
       "      <td>2</td>\n",
       "      <td>7</td>\n",
       "      <td>2</td>\n",
       "    </tr>\n",
       "    <tr>\n",
       "      <th>296915</th>\n",
       "      <td>2</td>\n",
       "      <td>4</td>\n",
       "      <td>2</td>\n",
       "      <td>2</td>\n",
       "      <td>9999-99-99</td>\n",
       "      <td>2</td>\n",
       "      <td>2</td>\n",
       "      <td>38</td>\n",
       "      <td>97</td>\n",
       "      <td>2</td>\n",
       "      <td>2</td>\n",
       "      <td>2</td>\n",
       "      <td>2</td>\n",
       "      <td>2</td>\n",
       "      <td>2</td>\n",
       "      <td>2</td>\n",
       "      <td>2</td>\n",
       "      <td>2</td>\n",
       "      <td>1</td>\n",
       "      <td>7</td>\n",
       "      <td>2</td>\n",
       "    </tr>\n",
       "    <tr>\n",
       "      <th>1026677</th>\n",
       "      <td>2</td>\n",
       "      <td>12</td>\n",
       "      <td>2</td>\n",
       "      <td>1</td>\n",
       "      <td>9999-99-99</td>\n",
       "      <td>97</td>\n",
       "      <td>2</td>\n",
       "      <td>29</td>\n",
       "      <td>97</td>\n",
       "      <td>2</td>\n",
       "      <td>2</td>\n",
       "      <td>2</td>\n",
       "      <td>2</td>\n",
       "      <td>2</td>\n",
       "      <td>2</td>\n",
       "      <td>2</td>\n",
       "      <td>2</td>\n",
       "      <td>2</td>\n",
       "      <td>1</td>\n",
       "      <td>7</td>\n",
       "      <td>97</td>\n",
       "    </tr>\n",
       "    <tr>\n",
       "      <th>370765</th>\n",
       "      <td>2</td>\n",
       "      <td>6</td>\n",
       "      <td>2</td>\n",
       "      <td>2</td>\n",
       "      <td>9999-99-99</td>\n",
       "      <td>2</td>\n",
       "      <td>2</td>\n",
       "      <td>52</td>\n",
       "      <td>97</td>\n",
       "      <td>2</td>\n",
       "      <td>2</td>\n",
       "      <td>1</td>\n",
       "      <td>2</td>\n",
       "      <td>2</td>\n",
       "      <td>2</td>\n",
       "      <td>2</td>\n",
       "      <td>2</td>\n",
       "      <td>2</td>\n",
       "      <td>2</td>\n",
       "      <td>7</td>\n",
       "      <td>2</td>\n",
       "    </tr>\n",
       "    <tr>\n",
       "      <th>887068</th>\n",
       "      <td>2</td>\n",
       "      <td>12</td>\n",
       "      <td>2</td>\n",
       "      <td>1</td>\n",
       "      <td>9999-99-99</td>\n",
       "      <td>97</td>\n",
       "      <td>2</td>\n",
       "      <td>44</td>\n",
       "      <td>97</td>\n",
       "      <td>2</td>\n",
       "      <td>2</td>\n",
       "      <td>2</td>\n",
       "      <td>2</td>\n",
       "      <td>2</td>\n",
       "      <td>2</td>\n",
       "      <td>2</td>\n",
       "      <td>2</td>\n",
       "      <td>2</td>\n",
       "      <td>2</td>\n",
       "      <td>7</td>\n",
       "      <td>97</td>\n",
       "    </tr>\n",
       "    <tr>\n",
       "      <th>648268</th>\n",
       "      <td>2</td>\n",
       "      <td>12</td>\n",
       "      <td>1</td>\n",
       "      <td>1</td>\n",
       "      <td>9999-99-99</td>\n",
       "      <td>97</td>\n",
       "      <td>2</td>\n",
       "      <td>16</td>\n",
       "      <td>2</td>\n",
       "      <td>2</td>\n",
       "      <td>2</td>\n",
       "      <td>2</td>\n",
       "      <td>2</td>\n",
       "      <td>2</td>\n",
       "      <td>2</td>\n",
       "      <td>2</td>\n",
       "      <td>2</td>\n",
       "      <td>2</td>\n",
       "      <td>2</td>\n",
       "      <td>3</td>\n",
       "      <td>97</td>\n",
       "    </tr>\n",
       "    <tr>\n",
       "      <th>876621</th>\n",
       "      <td>2</td>\n",
       "      <td>12</td>\n",
       "      <td>1</td>\n",
       "      <td>1</td>\n",
       "      <td>9999-99-99</td>\n",
       "      <td>97</td>\n",
       "      <td>2</td>\n",
       "      <td>52</td>\n",
       "      <td>2</td>\n",
       "      <td>2</td>\n",
       "      <td>2</td>\n",
       "      <td>2</td>\n",
       "      <td>2</td>\n",
       "      <td>2</td>\n",
       "      <td>2</td>\n",
       "      <td>2</td>\n",
       "      <td>2</td>\n",
       "      <td>2</td>\n",
       "      <td>2</td>\n",
       "      <td>7</td>\n",
       "      <td>97</td>\n",
       "    </tr>\n",
       "    <tr>\n",
       "      <th>116802</th>\n",
       "      <td>1</td>\n",
       "      <td>4</td>\n",
       "      <td>2</td>\n",
       "      <td>2</td>\n",
       "      <td>9999-99-99</td>\n",
       "      <td>2</td>\n",
       "      <td>2</td>\n",
       "      <td>60</td>\n",
       "      <td>97</td>\n",
       "      <td>2</td>\n",
       "      <td>2</td>\n",
       "      <td>2</td>\n",
       "      <td>2</td>\n",
       "      <td>2</td>\n",
       "      <td>2</td>\n",
       "      <td>2</td>\n",
       "      <td>2</td>\n",
       "      <td>1</td>\n",
       "      <td>2</td>\n",
       "      <td>3</td>\n",
       "      <td>2</td>\n",
       "    </tr>\n",
       "  </tbody>\n",
       "</table>\n",
       "</div>"
      ],
      "text/plain": [
       "         USMER  MEDICAL_UNIT  SEX  PATIENT_TYPE   DATE_DIED  INTUBED  \\\n",
       "262401       2             4    2             1  9999-99-99       97   \n",
       "927772       1            12    1             1  9999-99-99       97   \n",
       "65999        1             4    2             2  9999-99-99        2   \n",
       "538475       2            12    1             1  9999-99-99       97   \n",
       "717126       1            12    1             1  9999-99-99       97   \n",
       "774321       2            12    2             1  9999-99-99       97   \n",
       "948796       2            12    1             1  9999-99-99       97   \n",
       "672174       2            12    1             1  9999-99-99       97   \n",
       "308172       2             4    2             1  9999-99-99       97   \n",
       "681224       1            12    1             1  9999-99-99       97   \n",
       "487829       2            12    2             1  9999-99-99       97   \n",
       "188326       2             4    2             1  9999-99-99       97   \n",
       "980447       2            12    1             1  9999-99-99       97   \n",
       "511163       2            12    1             1  9999-99-99       97   \n",
       "820035       1            12    1             1  9999-99-99       97   \n",
       "586662       1            12    2             2  9999-99-99        2   \n",
       "335515       2             5    1             2  9999-99-99        2   \n",
       "241917       2             4    1             2  9999-99-99        2   \n",
       "296915       2             4    2             2  9999-99-99        2   \n",
       "1026677      2            12    2             1  9999-99-99       97   \n",
       "370765       2             6    2             2  9999-99-99        2   \n",
       "887068       2            12    2             1  9999-99-99       97   \n",
       "648268       2            12    1             1  9999-99-99       97   \n",
       "876621       2            12    1             1  9999-99-99       97   \n",
       "116802       1             4    2             2  9999-99-99        2   \n",
       "\n",
       "         PNEUMONIA  AGE  PREGNANT  DIABETES  COPD  ASTHMA  INMSUPR  \\\n",
       "262401           2   21        97         2     2       2        2   \n",
       "927772           2   32         2         2     2       2        2   \n",
       "65999            2   50        97         2     2       2        2   \n",
       "538475           2   25         1         2     2       2        2   \n",
       "717126           2   31         2         1     2       2        2   \n",
       "774321           2   44        97         2     2       2        2   \n",
       "948796           2   41         2         2     2       2        2   \n",
       "672174           2   60         2         1     2       2        2   \n",
       "308172           2   38        97         2     2       2        2   \n",
       "681224          99   13         2         2     2       2        2   \n",
       "487829           1   36        97         2     2       2        2   \n",
       "188326           2   30        97         2     2       2        2   \n",
       "980447           2   29         2         2     2       2        2   \n",
       "511163           2   28         2         2     2       2        2   \n",
       "820035           2   22        98         2     2       1        2   \n",
       "586662           2   35        97         1     2       2        2   \n",
       "335515           2   56         2         1     2       1        2   \n",
       "241917           1   37         2         2     2       2        2   \n",
       "296915           2   38        97         2     2       2        2   \n",
       "1026677          2   29        97         2     2       2        2   \n",
       "370765           2   52        97         2     2       1        2   \n",
       "887068           2   44        97         2     2       2        2   \n",
       "648268           2   16         2         2     2       2        2   \n",
       "876621           2   52         2         2     2       2        2   \n",
       "116802           2   60        97         2     2       2        2   \n",
       "\n",
       "         HIPERTENSION  OTHER_DISEASE  CARDIOVASCULAR  OBESITY  RENAL_CHRONIC  \\\n",
       "262401              2              2               2        2              2   \n",
       "927772              2             98               2        2              2   \n",
       "65999               2              2               2        2              2   \n",
       "538475              2              2               2        2              2   \n",
       "717126              2              2               2        2              2   \n",
       "774321              2              2               2        2              2   \n",
       "948796              2              2               2        2              2   \n",
       "672174              2              2               2        2              2   \n",
       "308172              2              2               2        2              2   \n",
       "681224              2              2               2        2              2   \n",
       "487829              2              2               2        2              2   \n",
       "188326              2              2               2        1              2   \n",
       "980447              2              2               2        1              2   \n",
       "511163              2              2               2        2              2   \n",
       "820035              2              2               2        2              2   \n",
       "586662              1              2               2        2              2   \n",
       "335515              1              2               2        2              2   \n",
       "241917              2              2               2        2              2   \n",
       "296915              2              2               2        2              2   \n",
       "1026677             2              2               2        2              2   \n",
       "370765              2              2               2        2              2   \n",
       "887068              2              2               2        2              2   \n",
       "648268              2              2               2        2              2   \n",
       "876621              2              2               2        2              2   \n",
       "116802              2              2               2        2              1   \n",
       "\n",
       "         TOBACCO  CLASIFFICATION_FINAL  ICU  \n",
       "262401         2                     7   97  \n",
       "927772         2                     7   97  \n",
       "65999          2                     3    2  \n",
       "538475         2                     3   97  \n",
       "717126         2                     6   97  \n",
       "774321         2                     7   97  \n",
       "948796         2                     7   97  \n",
       "672174         2                     5   97  \n",
       "308172         2                     7   97  \n",
       "681224         2                     6   97  \n",
       "487829         2                     3   97  \n",
       "188326         1                     6   97  \n",
       "980447         2                     7   97  \n",
       "511163         1                     3   97  \n",
       "820035         2                     7   97  \n",
       "586662         2                     3    2  \n",
       "335515         2                     3    2  \n",
       "241917         2                     7    2  \n",
       "296915         1                     7    2  \n",
       "1026677        1                     7   97  \n",
       "370765         2                     7    2  \n",
       "887068         2                     7   97  \n",
       "648268         2                     3   97  \n",
       "876621         2                     7   97  \n",
       "116802         2                     3    2  "
      ]
     },
     "execution_count": 10,
     "metadata": {},
     "output_type": "execute_result"
    }
   ],
   "source": [
    "data.sample(25)"
   ]
  },
  {
   "cell_type": "markdown",
   "metadata": {},
   "source": [
    "**Handling Missing Data**:\n",
    "- First, counting the proportion of missing data (the ones having 97,98,99 codes)\n",
    "- Second, look by manual inspection for the date died\n",
    "- Third, choose which feature to be dropped then."
   ]
  },
  {
   "cell_type": "code",
   "execution_count": 21,
   "metadata": {},
   "outputs": [
    {
     "data": {
      "text/plain": [
       "{'USMER': 0.0,\n",
       " 'MEDICAL_UNIT': 0.0,\n",
       " 'SEX': 0.0,\n",
       " 'PATIENT_TYPE': 0.0,\n",
       " 'DATE_DIED': 0.9266223207686622,\n",
       " 'INTUBED': 0.816221061917364,\n",
       " 'PNEUMONIA': 0.015261664640106812,\n",
       " 'AGE': 0.0003290179529361276,\n",
       " 'PREGNANT': 0.5028395679851226,\n",
       " 'DIABETES': 0.0031833679040602723,\n",
       " 'COPD': 0.002863886703383163,\n",
       " 'ASTHMA': 0.002840998497961519,\n",
       " 'INMSUPR': 0.0032463104689697923,\n",
       " 'HIPERTENSION': 0.0029602079011992466,\n",
       " 'OTHER_DISEASE': 0.0048112915146746775,\n",
       " 'CARDIOVASCULAR': 0.0029335049948739957,\n",
       " 'OBESITY': 0.0028915432849343156,\n",
       " 'RENAL_CHRONIC': 0.0028667477290608683,\n",
       " 'TOBACCO': 0.0030708342274038576,\n",
       " 'CLASIFFICATION_FINAL': 0.0,\n",
       " 'ICU': 0.8163765109791861}"
      ]
     },
     "execution_count": 21,
     "metadata": {},
     "output_type": "execute_result"
    }
   ],
   "source": [
    "for column in data.columns:    \n",
    "    # Count the occurrences of special codes (97, 98, 99) in these columns\n",
    "    special_code_counts = {column: data[column].value_counts().loc[lambda x: x.index.isin([97, 98, 99,'9999-99-99'])]\\\n",
    "        .sum() for column in data.columns}\n",
    "    # Total count for perspective\n",
    "    total_counts = {column: data[column].count() for column in data.columns}\n",
    "    # Find total special code\n",
    "    special_code_proportions = {column: special_code_counts[column] / total_counts[column] for column in data.columns}\n",
    "special_code_proportions\n"
   ]
  },
  {
   "cell_type": "markdown",
   "metadata": {},
   "source": [
    "- Next the optimum approach is to exclude the features with high missing values.\n",
    "- To perform this, it is better to do it dynamically (removing based on a filter not by manual inspection)\n",
    "- For me I have chosen the features with high 0.2 to be dropped (along side with the Y which is the target column) "
   ]
  },
  {
   "cell_type": "code",
   "execution_count": 22,
   "metadata": {},
   "outputs": [
    {
     "data": {
      "text/plain": [
       "{'USMER': 0.0,\n",
       " 'MEDICAL_UNIT': 0.0,\n",
       " 'SEX': 0.0,\n",
       " 'PATIENT_TYPE': 0.0,\n",
       " 'PNEUMONIA': 0.015261664640106812,\n",
       " 'AGE': 0.0003290179529361276,\n",
       " 'DIABETES': 0.0031833679040602723,\n",
       " 'COPD': 0.002863886703383163,\n",
       " 'ASTHMA': 0.002840998497961519,\n",
       " 'INMSUPR': 0.0032463104689697923,\n",
       " 'HIPERTENSION': 0.0029602079011992466,\n",
       " 'OTHER_DISEASE': 0.0048112915146746775,\n",
       " 'CARDIOVASCULAR': 0.0029335049948739957,\n",
       " 'OBESITY': 0.0028915432849343156,\n",
       " 'RENAL_CHRONIC': 0.0028667477290608683,\n",
       " 'TOBACCO': 0.0030708342274038576}"
      ]
     },
     "execution_count": 22,
     "metadata": {},
     "output_type": "execute_result"
    }
   ],
   "source": [
    "dynamic_filtered_features = {k: v for k, v in special_code_proportions.items() if v <= 0.1 and k not in ['CLASIFFICATION_FINAL']}\n",
    "dynamic_filtered_features"
   ]
  },
  {
   "cell_type": "markdown",
   "metadata": {},
   "source": [
    "- The Classification final should be encoded to either 0 or 1 by checking the description you will find that:\n",
    "    - People with 0 to 3 are diagnosed as covid-19\n",
    "    - People with 4 or more are not"
   ]
  },
  {
   "cell_type": "code",
   "execution_count": 23,
   "metadata": {},
   "outputs": [
    {
     "data": {
      "text/plain": [
       "CLASIFFICATION_FINAL\n",
       "7    499250\n",
       "3    381527\n",
       "6    128133\n",
       "5     26091\n",
       "1      8601\n",
       "4      3122\n",
       "2      1851\n",
       "Name: count, dtype: int64"
      ]
     },
     "execution_count": 23,
     "metadata": {},
     "output_type": "execute_result"
    }
   ],
   "source": [
    "data['CLASIFFICATION_FINAL'].value_counts()"
   ]
  },
  {
   "cell_type": "code",
   "execution_count": 24,
   "metadata": {},
   "outputs": [],
   "source": [
    "data['CLASIFFICATION_FINAL'] = data['CLASIFFICATION_FINAL'].map({1: 'POS', 2: 'POS', 3: 'POS', 4:'NEG', 5:'NEG', 6:'NEG', 7:'NEG'})"
   ]
  },
  {
   "cell_type": "code",
   "execution_count": 27,
   "metadata": {},
   "outputs": [
    {
     "name": "stderr",
     "output_type": "stream",
     "text": [
      "C:\\Users\\Metwalli\\AppData\\Local\\Temp\\ipykernel_5892\\3399123075.py:4: SettingWithCopyWarning: \n",
      "A value is trying to be set on a copy of a slice from a DataFrame.\n",
      "Try using .loc[row_indexer,col_indexer] = value instead\n",
      "\n",
      "See the caveats in the documentation: https://pandas.pydata.org/pandas-docs/stable/user_guide/indexing.html#returning-a-view-versus-a-copy\n",
      "  mask['CLASIFFICATION_FINAL'] = data['CLASIFFICATION_FINAL'] # Add the target column back\n"
     ]
    },
    {
     "data": {
      "text/plain": [
       "(1024460, 17)"
      ]
     },
     "execution_count": 27,
     "metadata": {},
     "output_type": "execute_result"
    }
   ],
   "source": [
    "# Update feature selection based on the analysis above\n",
    "updated_features = list(dynamic_filtered_features.keys())\n",
    "mask = data[updated_features] # Select only the updated features from the dataset\n",
    "mask['CLASIFFICATION_FINAL'] = data['CLASIFFICATION_FINAL'] # Add the target column back\n",
    "for column in mask.columns:\n",
    "    if column != 'CLASIFFICATION_FINAL':\n",
    "        mask = mask[(mask[column]<96)] # Excluding the 97,98,99 missing data from data\n",
    "mask.shape"
   ]
  },
  {
   "cell_type": "markdown",
   "metadata": {},
   "source": [
    "### Data Modelling"
   ]
  },
  {
   "cell_type": "code",
   "execution_count": 28,
   "metadata": {},
   "outputs": [],
   "source": [
    "# Update feature selection based on the analysis above\n",
    "X_updated = mask.drop('CLASIFFICATION_FINAL',axis=1)\n",
    "Y = mask['CLASIFFICATION_FINAL']\n",
    "# Split the updated dataset into training and testing sets\n",
    "X_train_updated, X_test_updated, Y_train, Y_test = train_test_split(X_updated, Y, test_size=0.2, random_state=42)"
   ]
  },
  {
   "cell_type": "code",
   "execution_count": 29,
   "metadata": {},
   "outputs": [
    {
     "name": "stderr",
     "output_type": "stream",
     "text": [
      "a:\\anaconda3_23.7.3\\envs\\mitocluster\\Lib\\site-packages\\sklearn\\linear_model\\_logistic.py:460: ConvergenceWarning: lbfgs failed to converge (status=1):\n",
      "STOP: TOTAL NO. of ITERATIONS REACHED LIMIT.\n",
      "\n",
      "Increase the number of iterations (max_iter) or scale the data as shown in:\n",
      "    https://scikit-learn.org/stable/modules/preprocessing.html\n",
      "Please also refer to the documentation for alternative solver options:\n",
      "    https://scikit-learn.org/stable/modules/linear_model.html#logistic-regression\n",
      "  n_iter_i = _check_optimize_result(\n"
     ]
    },
    {
     "name": "stdout",
     "output_type": "stream",
     "text": [
      "              precision    recall  f1-score   support\n",
      "\n",
      "         NEG       0.66      0.91      0.77    127239\n",
      "         POS       0.62      0.25      0.35     77653\n",
      "\n",
      "    accuracy                           0.66    204892\n",
      "   macro avg       0.64      0.58      0.56    204892\n",
      "weighted avg       0.65      0.66      0.61    204892\n",
      "\n"
     ]
    }
   ],
   "source": [
    "# Initialize and train the logistic regression model on the updated dataset\n",
    "model_updated = LogisticRegression(n_jobs=-1)\n",
    "model_updated.fit(X_train_updated, Y_train)\n",
    "\n",
    "# Updated predictions\n",
    "Y_pred_updated = model_updated.predict(X_test_updated)\n",
    "# Evaluate the updated model\n",
    "accuracy_updated = accuracy_score(Y_test, Y_pred_updated)\n",
    "report_updated = classification_report(y_true=Y_test, y_pred=Y_pred_updated) # Actual Y and the predicted (Y_hat)\n",
    "\n",
    "print(report_updated)"
   ]
  },
  {
   "cell_type": "markdown",
   "metadata": {},
   "source": [
    "- The model just achieved 66% accuracy due to one or more of the following reasons:\n",
    "    - The data balance can be enhanced by balancing both positive and negative classes. \n",
    "    - Some data used in this classification may be irrelevant. (Will discover later in Regularization)\n",
    "    - The sample data are not ideal since we do not have an equiprobable number of output.\n",
    "    - The logistic regression may not be the best practice since it has the following disadvantages:\n",
    "        - Logistic regression only works well for cases where the dataset is linearly separable because:\n",
    "            - Logistic regression assumes linearity between the predicted (dependent) variable and the predictor (independent) variables"
   ]
  },
  {
   "cell_type": "markdown",
   "metadata": {},
   "source": [
    "# Evaluation of the classification model: [CONFUSION MATRIX] "
   ]
  },
  {
   "cell_type": "markdown",
   "metadata": {},
   "source": [
    "A Confusion Matrix is a performance measurement tool for machine learning classification. It is a table with two dimensions (\"Actual\" and \"Predicted\"), and it allows us to visualize the performance of an algorithm. Here's a breakdown of its components:\n",
    "\n",
    "<img src='conf_matrix.png' width='400' height='350' style='display: block; margin: auto;'>\n",
    "\n",
    "## Structure\n",
    "- **True Positives (TP)**: The cases in which the actual class of the data point was 1 (True) and the predicted is also 1 (True).\n",
    "- **True Negatives (TN)**: The cases in which the actual class of the data point was 0 (False) and the predicted is also 0 (False).\n",
    "- **False Positives (FP)**: The cases in which the actual class of the data point was 0 (False) and the predicted is 1 (True), also known as a \"Type I error\". The model incorrectly predicted the positive class.\n",
    "- **False Negatives (FN)**: The cases in which the actual class of the data point was 1 (True) and the predicted is 0 (False), also known as a \"Type II error\". The model incorrectly predicted the negative class.\n",
    "\n",
    "## Metrics Derived\n",
    "- **Accuracy**: Overall, how often is the classifier correct? `(TP + TN) / (TP + TN + FP + FN)`\n",
    "- **Precision** (or Positive Predictive Value): When it predicts yes, how often is it correct? `TP / (TP + FP)`\n",
    "- **Recall** (or Sensitivity or True Positive Rate): How often it predicts yes, when it's actually yes? `TP / (TP + FN)`\n",
    "- **F1 Score**: A weighted average of Precision and Recall. `2 * (Precision * Recall) / (Precision + Recall)`\n",
    "- **Specificity** (or True Negative Rate): How often it predicts no, when it's actually no? `TN / (TN + FP)`\n",
    "- **False Positive Rate**: When it's actually no, how often does it predict yes? `FP / (FP + TN)`\n",
    "- **Negative Predictive Value**: When it predicts no, how often is it correct? `TN / (TN + FN)`\n",
    "- **False Discovery Rate**: When it predicts yes, how often is it wrong? `FP / (FP + TP)`\n",
    "\n",
    "## Importance\n",
    "Understanding these metrics and the structure of a confusion matrix is crucial for interpreting the performance of classification models, allowing for the identification of areas for improvement, and balancing precision and recall according to the business requirements."
   ]
  },
  {
   "cell_type": "code",
   "execution_count": 38,
   "metadata": {},
   "outputs": [
    {
     "data": {
      "image/png": "[encoded data removed]",
      "text/plain": [
       "<Figure size 700x400 with 2 Axes>"
      ]
     },
     "metadata": {},
     "output_type": "display_data"
    }
   ],
   "source": [
    "# Generating the confusion matrix\n",
    "LABELS = ['NEG','POS']\n",
    "conf_matrix = confusion_matrix(Y_test, Y_pred_updated, labels=LABELS)\n",
    "# Plotting the confusion matrix\n",
    "plt.figure(figsize=(7,4))\n",
    "sb.heatmap(conf_matrix, annot=True, fmt='g', cmap='Blues',xticklabels=LABELS, yticklabels=LABELS)\n",
    "plt.xlabel('Predicted labels')\n",
    "plt.ylabel('True labels')\n",
    "plt.title('Confusion Matrix')\n",
    "plt.show()"
   ]
  },
  {
   "cell_type": "markdown",
   "metadata": {},
   "source": [
    "# K-Nearest Neighbor (KNN)"
   ]
  },
  {
   "cell_type": "markdown",
   "metadata": {},
   "source": [
    "K-Nearest Neighbors (KNN) is a simple, yet powerful machine learning algorithm used for both classification and regression tasks. Unlike logistic regression, which is a predictive modeling technique based on the assumption of a mathematical relationship between input variables and the probability of the target variable, KNN works by finding the most similar historical data points to the new data point and predicting the outcome based on the outcomes of these neighbors.\n",
    "\n",
    "**Input:**\n",
    "- Predictor Variables (Features): KNN uses predictor variables (X) similar to logistic regression. These variables describe the characteristics of the data points. The algorithm uses these features to find the nearest neighbors of a new data point.\n",
    "- Target Variable (Label): The target variable (Y) in KNN can be either categorical for classification tasks or continuous for regression tasks. For classification, the algorithm assigns a class to the new data point based on the majority vote of its nearest neighbors.\n",
    "\n",
    "**Output:**\n",
    "- Class Membership (for classification): In classification tasks, KNN outputs the class with the majority vote among the K nearest neighbors of the new data point.\n",
    "- Value Prediction (for regression): In regression tasks, KNN predicts the value for the new data point based on the average (or another aggregate measure) of the values of its K nearest neighbors.\n",
    "\n",
    "**How It Works:**\n",
    "- Choosing K: The first step in KNN is to choose the number of neighbors (K). This is a crucial parameter that influences the performance of the algorithm. A small value of K can make the algorithm sensitive to noise in the data, while a large value makes it computationally expensive and may lead to underfitting.\n",
    "- Distance Measure: To find the nearest neighbors, KNN calculates the distance between data points using a distance measure such as Euclidean, Manhattan, or Minkowski distance. The choice of distance measure can affect the performance of the algorithm.\n",
    "- Finding Nearest Neighbors: For each new data point, the algorithm searches the training dataset to find the K nearest neighbors based on the distance measure.\n",
    "\n",
    "- Majority Vote or Averaging:\n",
    "\n",
    "    - Classification: For classification tasks, KNN assigns the class based on the majority class among the K nearest neighbors. Ties can be broken randomly or by reducing K until a clear majority is found.\n",
    "    - Regression: For regression tasks, KNN predicts the value by averaging (or taking another aggregate measure) the values of the K nearest neighbors.\n",
    "- Prediction: The new data point is assigned the computed class (for classification) or value (for regression) based on its nearest neighbors.\n",
    "\n",
    "KNN is widely appreciated for its simplicity, ease of understanding, and effectiveness in many scenarios. However, it can be computationally expensive as it requires storing the entire dataset and calculating distances between data points for each prediction. Additionally, the performance of KNN can be significantly impacted by the choice of K and the distance measure used."
   ]
  },
  {
   "cell_type": "markdown",
   "metadata": {},
   "source": [
    "## Continue Preprocessing before applying KNN"
   ]
  },
  {
   "cell_type": "markdown",
   "metadata": {},
   "source": [
    "- First let's do better data preprocessing\n",
    "    - Balancing data by making the number of records positive or negative are equal on 'CLASSIFFICATION_FINAL'\n",
    "        - The number of positive are 388632 having Covid and the number of negative are 635828\n",
    "        - We can take sample of 300000 from both dataset to make them equal.\n",
    "    - Removing irrelevant data\n",
    "        - I found that \n",
    "            - USMER and MEDICAL_UNIT are irrelevant to classification task so we will remove it. \n",
    "        - We can use techniques such as feature_importance to find out which features are important "
   ]
  }
 ],
 "metadata": {
  "kernelspec": {
   "display_name": "mitocluster",
   "language": "python",
   "name": "python3"
  },
  "language_info": {
   "codemirror_mode": {
    "name": "ipython",
    "version": 3
   },
   "file_extension": ".py",
   "mimetype": "text/x-python",
   "name": "python",
   "nbconvert_exporter": "python",
   "pygments_lexer": "ipython3",
   "version": "3.11.5"
  }
 },
 "nbformat": 4,
 "nbformat_minor": 2
}
