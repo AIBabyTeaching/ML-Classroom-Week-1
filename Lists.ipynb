{
 "cells": [
  {
   "cell_type": "markdown",
   "id": "4957606d",
   "metadata": {},
   "source": [
    "# ========================= Lists in python ======================="
   ]
  },
  {
   "cell_type": "code",
   "execution_count": 1,
   "id": "360ea483",
   "metadata": {},
   "outputs": [],
   "source": [
    "# Lists are used to store multiple items in a single variable.\n",
    "# List items are ordered, changeable, and allow duplicate values.\n",
    "# The list elements could be of any type and 1 list can contain mixture of types."
   ]
  },
  {
   "cell_type": "markdown",
   "id": "511de138",
   "metadata": {},
   "source": [
    "### 1. Create Python Lists"
   ]
  },
  {
   "cell_type": "code",
   "execution_count": 20,
   "id": "d0fab0f5",
   "metadata": {},
   "outputs": [
    {
     "name": "stdout",
     "output_type": "stream",
     "text": [
      "<class 'list'>\n",
      "[6]\n"
     ]
    }
   ],
   "source": [
    "# 2 methods to create empty lists:\n",
    "my_list_1 = []\n",
    "my_list_2 = list()\n",
    "print(type(my_list_2))\n",
    "\n",
    "\n",
    "my_list_2.append(6)\n",
    "print(my_list_2)\n",
    "\n",
    "\n"
   ]
  },
  {
   "cell_type": "code",
   "execution_count": 3,
   "id": "3402caef",
   "metadata": {},
   "outputs": [
    {
     "name": "stdout",
     "output_type": "stream",
     "text": [
      "<class 'list'>\n"
     ]
    }
   ],
   "source": [
    "print(type(my_list_1))"
   ]
  },
  {
   "cell_type": "code",
   "execution_count": 3,
   "id": "ee4ad261",
   "metadata": {},
   "outputs": [
    {
     "name": "stdout",
     "output_type": "stream",
     "text": [
      "[1, 2, 3, 4]\n"
     ]
    }
   ],
   "source": [
    "numbers = [1,2,3,4]\n",
    "print(numbers.sort)"
   ]
  },
  {
   "cell_type": "code",
   "execution_count": 24,
   "id": "dc61afb9",
   "metadata": {},
   "outputs": [
    {
     "name": "stdout",
     "output_type": "stream",
     "text": [
      "mix list: [1, 'Hi', 6.7]\n",
      "<class 'float'>\n"
     ]
    }
   ],
   "source": [
    "# Lists in python are hetreogenous (1 list can contain different data types)\n",
    "mix = [1, \"Hi\", 6.7]\n",
    "print(\"mix list:\", mix)\n",
    "print(type(mix[2]))"
   ]
  },
  {
   "cell_type": "code",
   "execution_count": 15,
   "id": "ca07621b",
   "metadata": {},
   "outputs": [
    {
     "name": "stdout",
     "output_type": "stream",
     "text": [
      "6\n"
     ]
    }
   ],
   "source": [
    "# nested lists:\n",
    "my_list = [\"Egypt\", \n",
    "           [6, 4.5, 8],\n",
    "             ['a']]\n",
    "print(my_list[1][0])\n"
   ]
  },
  {
   "cell_type": "code",
   "execution_count": 6,
   "id": "c134bc52",
   "metadata": {},
   "outputs": [
    {
     "name": "stdout",
     "output_type": "stream",
     "text": [
      "[[1, 2, 3, 4, 5, 6], ['a', 'b', 'c', 'd']]\n"
     ]
    }
   ],
   "source": [
    "# create nested lists:\n",
    "numbers = [1,2,3,4,5,6]\n",
    "letters = ['a', 'b', 'c', 'd']\n",
    "combo = [numbers, letters]\n",
    "print(combo)"
   ]
  },
  {
   "cell_type": "markdown",
   "id": "1a4dc189",
   "metadata": {},
   "source": [
    "### 2. Access List Elements "
   ]
  },
  {
   "cell_type": "code",
   "execution_count": 26,
   "id": "470ac805",
   "metadata": {},
   "outputs": [
    {
     "name": "stdout",
     "output_type": "stream",
     "text": [
      "1st element is: 3.5\n",
      "2nd element is: 6.7\n",
      "3rd element is: 9.1\n",
      "4th element is: 3.4\n"
     ]
    },
    {
     "ename": "TypeError",
     "evalue": "list indices must be integers or slices, not float",
     "output_type": "error",
     "traceback": [
      "\u001b[0;31m---------------------------------------------------------------------------\u001b[0m",
      "\u001b[0;31mTypeError\u001b[0m                                 Traceback (most recent call last)",
      "Cell \u001b[0;32mIn[26], line 7\u001b[0m\n\u001b[1;32m      5\u001b[0m \u001b[38;5;28mprint\u001b[39m(\u001b[38;5;124m\"\u001b[39m\u001b[38;5;124m4th element is:\u001b[39m\u001b[38;5;124m\"\u001b[39m, distances[\u001b[38;5;241m3\u001b[39m])\n\u001b[1;32m      6\u001b[0m \u001b[38;5;66;03m#print(\"5th element is:\", distances[4])  #This will give us \"Index error\" as the len of the list is only 4\u001b[39;00m\n\u001b[0;32m----> 7\u001b[0m \u001b[38;5;28mprint\u001b[39m(\u001b[38;5;124m\"\u001b[39m\u001b[38;5;124m4th element is:\u001b[39m\u001b[38;5;124m\"\u001b[39m, \u001b[43mdistances\u001b[49m\u001b[43m[\u001b[49m\u001b[38;5;241;43m3.0\u001b[39;49m\u001b[43m]\u001b[49m) \u001b[38;5;66;03m# This will give us \"TypeError\": list indices must be integers or slices, not float\u001b[39;00m\n",
      "\u001b[0;31mTypeError\u001b[0m: list indices must be integers or slices, not float"
     ]
    }
   ],
   "source": [
    "distances = [3.5, 6.7, 9.1, 3.4]\n",
    "print(\"1st element is:\", distances[0])\n",
    "print(\"2nd element is:\", distances[1])\n",
    "print(\"3rd element is:\", distances[2])\n",
    "print(\"4th element is:\", distances[3])\n",
    "#print(\"5th element is:\", distances[4])  #This will give us \"Index error\" as the len of the list is only 4\n",
    "print(\"4th element is:\", distances[3.0]) # This will give us \"TypeError\": list indices must be integers or slices, not float"
   ]
  },
  {
   "cell_type": "code",
   "execution_count": 8,
   "id": "49f5e849",
   "metadata": {},
   "outputs": [
    {
     "name": "stdout",
     "output_type": "stream",
     "text": [
      "Egypt\n",
      "[6, 4.5, 8]\n",
      "['a']\n",
      "8\n",
      "p\n"
     ]
    }
   ],
   "source": [
    "# Accessing Nested Lists:\n",
    "my_list = [\"Egypt\", [6, 4.5, 8], ['a']]\n",
    "\n",
    "print(my_list[0])  #return the first nested list \"Egypt\"\n",
    "print(my_list[1])\n",
    "print(my_list[2])\n",
    "\n",
    "# To get 8 in the 2nd list we should specify both the row and column, in this case the row is 1 and the column is 2\n",
    "print(my_list[1][2])\n",
    "\n",
    "# To get p in Egypt \n",
    "print(my_list[0][3])"
   ]
  },
  {
   "cell_type": "markdown",
   "id": "a2baf06e",
   "metadata": {},
   "source": [
    "### 3. Negative indexing "
   ]
  },
  {
   "cell_type": "code",
   "execution_count": 9,
   "id": "60a32613",
   "metadata": {},
   "outputs": [
    {
     "name": "stdout",
     "output_type": "stream",
     "text": [
      "e\n",
      "o\n"
     ]
    }
   ],
   "source": [
    "# Negative indexing in lists\n",
    "chars = ['p','r','o','b','e']\n",
    "\n",
    "# last item\n",
    "print(chars[-1])\n",
    "\n",
    "# 3rd last item\n",
    "print(chars[-3])"
   ]
  },
  {
   "attachments": {
    "image.png": {
     "image/png": "[encoded data removed]"
    }
   },
   "cell_type": "markdown",
   "id": "239b98fe",
   "metadata": {},
   "source": [
    "![image.png](attachment:image.png)\n"
   ]
  },
  {
   "cell_type": "markdown",
   "id": "d936a494",
   "metadata": {},
   "source": [
    "### 4. List Slicing"
   ]
  },
  {
   "cell_type": "code",
   "execution_count": 10,
   "id": "568e97b6",
   "metadata": {},
   "outputs": [
    {
     "name": "stdout",
     "output_type": "stream",
     "text": [
      "['o', 'g', 'r']\n",
      "['a', 'm', 'i', 'z']\n",
      "['p', 'r', 'o', 'g', 'r', 'a', 'm', 'i', 'z']\n",
      "['o', 'a']\n"
     ]
    }
   ],
   "source": [
    "# List slicing in Python\n",
    "\n",
    "my_list = ['p','r','o','g','r','a','m','i','z']\n",
    "\n",
    "# elements from index 2 to index 4\n",
    "print(my_list[2:5])\n",
    "\n",
    "# elements from index 5 to end\n",
    "print(my_list[5:])\n",
    "\n",
    "# elements beginning to end\n",
    "print(my_list[:])\n",
    "\n",
    "# [start, end, step]\n",
    "print(my_list[2:8:3])"
   ]
  },
  {
   "cell_type": "markdown",
   "id": "cd595614",
   "metadata": {},
   "source": [
    "### 5. Add/Change List Elements"
   ]
  },
  {
   "cell_type": "code",
   "execution_count": 11,
   "id": "8af5d77e",
   "metadata": {},
   "outputs": [
    {
     "name": "stdout",
     "output_type": "stream",
     "text": [
      "[1, 4, 6, 8]\n",
      "[1, 3, 5, 7]\n"
     ]
    }
   ],
   "source": [
    "# Lists are mutable, meaning their elements can be changed unlike string or tuple.\n",
    "\n",
    "# Correcting mistake values in a list\n",
    "odd = [2, 4, 6, 8]\n",
    "\n",
    "# change the 1st item    \n",
    "odd[0] = 1            \n",
    "\n",
    "print(odd)\n",
    "\n",
    "# change 2nd to 4th items\n",
    "odd[1:4] = [3, 5, 7]  \n",
    "\n",
    "print(odd)  "
   ]
  },
  {
   "cell_type": "code",
   "execution_count": 12,
   "id": "962a0b49",
   "metadata": {},
   "outputs": [
    {
     "name": "stdout",
     "output_type": "stream",
     "text": [
      "[1, 3, 5, 7]\n",
      "[1, 3, 5, 7, 9, 11, 13]\n"
     ]
    }
   ],
   "source": [
    "# We can add one item to a list using the append() method or add several items using the extend() method.\n",
    "odd = [1, 3, 5]\n",
    "odd.append(7)\n",
    "print(odd)\n",
    "\n",
    "odd.extend([9, 11, 13])\n",
    "print(odd)"
   ]
  },
  {
   "cell_type": "code",
   "execution_count": 13,
   "id": "e7f422a3",
   "metadata": {},
   "outputs": [
    {
     "name": "stdout",
     "output_type": "stream",
     "text": [
      "[1, 3, 5, 7, 9, 11, 13, 15, 17, 19, 21, 23]\n"
     ]
    }
   ],
   "source": [
    "# Concatenating lists\n",
    "odd_1 = [1,3,5,7]\n",
    "odd_2 = [9, 11, 13, 15, 17]\n",
    "odds = odd_1 + odd_2 + [19, 21, 23]\n",
    "print(odds)"
   ]
  },
  {
   "cell_type": "code",
   "execution_count": 14,
   "id": "474e82bc",
   "metadata": {},
   "outputs": [
    {
     "name": "stdout",
     "output_type": "stream",
     "text": [
      "['r', 'r', 'r', 'r', 'r']\n"
     ]
    }
   ],
   "source": [
    "# Create list with repeated elements \n",
    "rs = [\"r\"] * 5\n",
    "print(rs)"
   ]
  },
  {
   "cell_type": "code",
   "execution_count": 15,
   "id": "5d1b3eb8",
   "metadata": {},
   "outputs": [
    {
     "name": "stdout",
     "output_type": "stream",
     "text": [
      "[3, 7, 9]\n"
     ]
    }
   ],
   "source": [
    "# insert one item at a desired location by using the method insert(index, element) \n",
    "odd = [7, 9]\n",
    "# 0 is the index, 3 is value of the element we want to insert\n",
    "odd.insert(0, 3)\n",
    "print(odd)"
   ]
  },
  {
   "cell_type": "markdown",
   "id": "fe0701d3",
   "metadata": {},
   "source": [
    "### 6. Delete List Elements"
   ]
  },
  {
   "cell_type": "code",
   "execution_count": 13,
   "id": "d5a1ecfc",
   "metadata": {},
   "outputs": [
    {
     "name": "stdout",
     "output_type": "stream",
     "text": [
      "['p', 'r', 'b', 'l', 'e', 'm']\n",
      "['p', 'm']\n"
     ]
    },
    {
     "ename": "NameError",
     "evalue": "name 'my_list' is not defined",
     "output_type": "error",
     "traceback": [
      "\u001b[0;31m---------------------------------------------------------------------------\u001b[0m",
      "\u001b[0;31mNameError\u001b[0m                                 Traceback (most recent call last)",
      "Cell \u001b[0;32mIn[13], line 15\u001b[0m\n\u001b[1;32m     12\u001b[0m \u001b[38;5;28;01mdel\u001b[39;00m my_list\n\u001b[1;32m     14\u001b[0m \u001b[38;5;66;03m# Error: List not defined\u001b[39;00m\n\u001b[0;32m---> 15\u001b[0m \u001b[38;5;28mprint\u001b[39m(\u001b[43mmy_list\u001b[49m)\n",
      "\u001b[0;31mNameError\u001b[0m: name 'my_list' is not defined"
     ]
    }
   ],
   "source": [
    "my_list = ['p', 'r', 'o', 'b', 'l', 'e', 'm']\n",
    "\n",
    "# delete one item\n",
    "del my_list[2]\n",
    "print(my_list)\n",
    "\n",
    "# delete multiple items\n",
    "del my_list[1:5]\n",
    "print(my_list)\n",
    "\n",
    "# delete the entire list\n",
    "del my_list\n",
    "\n",
    "# Error: List not defined\n",
    "print(my_list)"
   ]
  },
  {
   "cell_type": "code",
   "execution_count": 17,
   "id": "ed7a6810",
   "metadata": {},
   "outputs": [
    {
     "name": "stdout",
     "output_type": "stream",
     "text": [
      "['r', 'o', 'b', 'l', 'e', 'm']\n",
      "o\n",
      "['r', 'b', 'l', 'e', 'm']\n",
      "m\n",
      "['r', 'b', 'l', 'e']\n",
      "[]\n"
     ]
    }
   ],
   "source": [
    "# We can use remove() to remove the given item \n",
    "# pop() to remove an item at the given index.\n",
    "# The pop() method removes and returns the last item if the index is not provided. \n",
    "# if we have to empty the whole list, we can use the clear() method.\n",
    "my_list = ['p','r','o','b','l','e','m']\n",
    "my_list.remove('p')\n",
    "\n",
    "# Output: ['r', 'o', 'b', 'l', 'e', 'm']\n",
    "print(my_list)\n",
    "\n",
    "# Output: 'o'\n",
    "print(my_list.pop(1))\n",
    "\n",
    "# Output: ['r', 'b', 'l', 'e', 'm']\n",
    "print(my_list)\n",
    "\n",
    "# Output: 'm'\n",
    "print(my_list.pop())\n",
    "\n",
    "# Output: ['r', 'b', 'l', 'e']\n",
    "print(my_list)\n",
    "\n",
    "my_list.clear()\n",
    "\n",
    "# Output: []\n",
    "print(my_list)"
   ]
  },
  {
   "cell_type": "markdown",
   "id": "2c9a90e5",
   "metadata": {},
   "source": [
    "### 7. Reverse a List"
   ]
  },
  {
   "cell_type": "code",
   "execution_count": 18,
   "id": "ccdf3634",
   "metadata": {},
   "outputs": [
    {
     "name": "stdout",
     "output_type": "stream",
     "text": [
      "[4, 5, 6, 7, 8, 9]\n"
     ]
    }
   ],
   "source": [
    "# Reverse list using reverse(), reversing is in PLACE.\n",
    "my_list = [9, 8, 7, 6, 5, 4]\n",
    "my_list.reverse()\n",
    "print(my_list)"
   ]
  },
  {
   "cell_type": "code",
   "execution_count": 19,
   "id": "882a9ef7",
   "metadata": {},
   "outputs": [
    {
     "name": "stdout",
     "output_type": "stream",
     "text": [
      "Orginal list: [9, 8, 7, 6, 5, 4]\n",
      "Reversed list: [4, 5, 6, 7, 8, 9]\n"
     ]
    }
   ],
   "source": [
    "# Reverse list using slicing, here reversing doesn't affect the orginal list\n",
    "my_list = [9, 8, 7, 6, 5, 4]\n",
    "my_list_reversed = my_list[::-1]\n",
    "print(\"Orginal list:\", my_list)\n",
    "print(\"Reversed list:\", my_list_reversed)"
   ]
  },
  {
   "cell_type": "markdown",
   "id": "a2f369b8",
   "metadata": {},
   "source": [
    "### 8. Count()"
   ]
  },
  {
   "cell_type": "code",
   "execution_count": 7,
   "id": "7517c3a3",
   "metadata": {},
   "outputs": [
    {
     "name": "stdout",
     "output_type": "stream",
     "text": [
      "2\n",
      "1\n",
      "7\n"
     ]
    }
   ],
   "source": [
    "# Return the number of times x appears in the list\n",
    "fruits = ['orange', 'apple', 'pear', 'banana', 'kiwi', 'apple', 'banana']\n",
    "print(fruits.count('apple'))\n",
    "print (fruits.count('kiwi'))\n",
    "print(len(fruits))\n"
   ]
  },
  {
   "cell_type": "markdown",
   "id": "0cc51e46",
   "metadata": {},
   "source": [
    "### 9. Sorting "
   ]
  },
  {
   "cell_type": "code",
   "execution_count": 21,
   "id": "6ef6c43d",
   "metadata": {},
   "outputs": [
    {
     "name": "stdout",
     "output_type": "stream",
     "text": [
      "[0, 1, 3, 4, 5, 10]\n"
     ]
    }
   ],
   "source": [
    "# Sort the items of the list in place\n",
    "numbers = [5, 3, 0, 10 , 1, 4]\n",
    "numbers.sort()\n",
    "print(numbers)"
   ]
  },
  {
   "cell_type": "markdown",
   "id": "6f45eabd",
   "metadata": {},
   "source": [
    "### 10. Copy list"
   ]
  },
  {
   "cell_type": "code",
   "execution_count": 22,
   "id": "6867e973",
   "metadata": {},
   "outputs": [
    {
     "name": "stdout",
     "output_type": "stream",
     "text": [
      "[5, 3, 0, 10, 1, 4]\n"
     ]
    }
   ],
   "source": [
    "numbers = [5, 3, 0, 10 , 1, 4]\n",
    "nums = numbers.copy()\n",
    "print(nums)"
   ]
  },
  {
   "cell_type": "markdown",
   "id": "c856dc73",
   "metadata": {},
   "source": [
    "### 11. get the length of list"
   ]
  },
  {
   "cell_type": "code",
   "execution_count": 23,
   "id": "01214c57",
   "metadata": {},
   "outputs": [
    {
     "name": "stdout",
     "output_type": "stream",
     "text": [
      "6\n"
     ]
    }
   ],
   "source": [
    "numbers = [5, 3, 0, 10 , 1, 4]\n",
    "print(len(numbers))"
   ]
  },
  {
   "cell_type": "markdown",
   "id": "9a4849a8",
   "metadata": {},
   "source": [
    "### 12. Looping "
   ]
  },
  {
   "cell_type": "code",
   "execution_count": 24,
   "id": "6f803921",
   "metadata": {},
   "outputs": [
    {
     "name": "stdout",
     "output_type": "stream",
     "text": [
      "5\n",
      "3\n",
      "0\n",
      "10\n",
      "1\n",
      "4\n"
     ]
    }
   ],
   "source": [
    "numbers = [5, 3, 0, 10 , 1, 4]\n",
    "for n in numbers:\n",
    "    print(n)"
   ]
  },
  {
   "cell_type": "markdown",
   "id": "2b6de675",
   "metadata": {},
   "source": [
    "### 13. Sum of list elements"
   ]
  },
  {
   "cell_type": "code",
   "execution_count": 25,
   "id": "73b6b637",
   "metadata": {},
   "outputs": [
    {
     "name": "stdout",
     "output_type": "stream",
     "text": [
      "10\n",
      "10\n"
     ]
    }
   ],
   "source": [
    "numbers = [4,5,1]\n",
    "\n",
    "# method 1 to get sum:\n",
    "total = 0\n",
    "for n in numbers:\n",
    "    total += n\n",
    "print(total)\n",
    "\n",
    "#method 2: use sum function\n",
    "print(sum(numbers))"
   ]
  },
  {
   "cell_type": "markdown",
   "id": "4b6626de",
   "metadata": {},
   "source": [
    "### 14. Memebership"
   ]
  },
  {
   "cell_type": "code",
   "execution_count": 26,
   "id": "a62c8d6d",
   "metadata": {},
   "outputs": [
    {
     "name": "stdout",
     "output_type": "stream",
     "text": [
      "False\n",
      "True\n",
      "False\n",
      "True\n"
     ]
    }
   ],
   "source": [
    "# chech whether an element is a member of a list using in\n",
    "print (1 in [2,3,4,5])\n",
    "print (2 in [2,3,4,5])\n",
    "print ('k' in \"hello\")\n",
    "print ('l'in \"hello\")"
   ]
  }
 ],
 "metadata": {
  "kernelspec": {
   "display_name": "Python 3 (ipykernel)",
   "language": "python",
   "name": "python3"
  },
  "language_info": {
   "codemirror_mode": {
    "name": "ipython",
    "version": 3
   },
   "file_extension": ".py",
   "mimetype": "text/x-python",
   "name": "python",
   "nbconvert_exporter": "python",
   "pygments_lexer": "ipython3",
   "version": "3.8.10"
  }
 },
 "nbformat": 4,
 "nbformat_minor": 5
}
